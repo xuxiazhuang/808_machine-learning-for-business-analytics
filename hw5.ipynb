{
 "cells": [
  {
   "cell_type": "markdown",
   "metadata": {},
   "source": [
    "# HW5: Diabetes against all ML\n",
    "In this homework, we will test all what we studied about classifications in the ML class using the diabetes dataset."
   ]
  },
  {
   "cell_type": "code",
   "execution_count": 1,
   "metadata": {},
   "outputs": [
    {
     "data": {
      "text/plain": [
       "(768, 9)"
      ]
     },
     "execution_count": 1,
     "metadata": {},
     "output_type": "execute_result"
    }
   ],
   "source": [
    "import pandas as pd\n",
    "import numpy as np\n",
    "import matplotlib.pyplot as plt\n",
    "%matplotlib inline\n",
    "df = pd.read_csv('diabetes (1).csv')\n",
    "df.shape"
   ]
  },
  {
   "cell_type": "code",
   "execution_count": 2,
   "metadata": {},
   "outputs": [
    {
     "data": {
      "text/html": [
       "<div>\n",
       "<style scoped>\n",
       "    .dataframe tbody tr th:only-of-type {\n",
       "        vertical-align: middle;\n",
       "    }\n",
       "\n",
       "    .dataframe tbody tr th {\n",
       "        vertical-align: top;\n",
       "    }\n",
       "\n",
       "    .dataframe thead th {\n",
       "        text-align: right;\n",
       "    }\n",
       "</style>\n",
       "<table border=\"1\" class=\"dataframe\">\n",
       "  <thead>\n",
       "    <tr style=\"text-align: right;\">\n",
       "      <th></th>\n",
       "      <th>Pregnancies</th>\n",
       "      <th>Glucose</th>\n",
       "      <th>BloodPressure</th>\n",
       "      <th>SkinThickness</th>\n",
       "      <th>Insulin</th>\n",
       "      <th>BMI</th>\n",
       "      <th>DiabetesPedigreeFunction</th>\n",
       "      <th>Age</th>\n",
       "      <th>Outcome</th>\n",
       "    </tr>\n",
       "  </thead>\n",
       "  <tbody>\n",
       "    <tr>\n",
       "      <th>0</th>\n",
       "      <td>6</td>\n",
       "      <td>148</td>\n",
       "      <td>72</td>\n",
       "      <td>35</td>\n",
       "      <td>0</td>\n",
       "      <td>33.6</td>\n",
       "      <td>0.627</td>\n",
       "      <td>50</td>\n",
       "      <td>1</td>\n",
       "    </tr>\n",
       "    <tr>\n",
       "      <th>1</th>\n",
       "      <td>1</td>\n",
       "      <td>85</td>\n",
       "      <td>66</td>\n",
       "      <td>29</td>\n",
       "      <td>0</td>\n",
       "      <td>26.6</td>\n",
       "      <td>0.351</td>\n",
       "      <td>31</td>\n",
       "      <td>0</td>\n",
       "    </tr>\n",
       "    <tr>\n",
       "      <th>2</th>\n",
       "      <td>8</td>\n",
       "      <td>183</td>\n",
       "      <td>64</td>\n",
       "      <td>0</td>\n",
       "      <td>0</td>\n",
       "      <td>23.3</td>\n",
       "      <td>0.672</td>\n",
       "      <td>32</td>\n",
       "      <td>1</td>\n",
       "    </tr>\n",
       "    <tr>\n",
       "      <th>3</th>\n",
       "      <td>1</td>\n",
       "      <td>89</td>\n",
       "      <td>66</td>\n",
       "      <td>23</td>\n",
       "      <td>94</td>\n",
       "      <td>28.1</td>\n",
       "      <td>0.167</td>\n",
       "      <td>21</td>\n",
       "      <td>0</td>\n",
       "    </tr>\n",
       "    <tr>\n",
       "      <th>4</th>\n",
       "      <td>0</td>\n",
       "      <td>137</td>\n",
       "      <td>40</td>\n",
       "      <td>35</td>\n",
       "      <td>168</td>\n",
       "      <td>43.1</td>\n",
       "      <td>2.288</td>\n",
       "      <td>33</td>\n",
       "      <td>1</td>\n",
       "    </tr>\n",
       "  </tbody>\n",
       "</table>\n",
       "</div>"
      ],
      "text/plain": [
       "   Pregnancies  Glucose  BloodPressure  SkinThickness  Insulin   BMI  \\\n",
       "0            6      148             72             35        0  33.6   \n",
       "1            1       85             66             29        0  26.6   \n",
       "2            8      183             64              0        0  23.3   \n",
       "3            1       89             66             23       94  28.1   \n",
       "4            0      137             40             35      168  43.1   \n",
       "\n",
       "   DiabetesPedigreeFunction  Age  Outcome  \n",
       "0                     0.627   50        1  \n",
       "1                     0.351   31        0  \n",
       "2                     0.672   32        1  \n",
       "3                     0.167   21        0  \n",
       "4                     2.288   33        1  "
      ]
     },
     "execution_count": 2,
     "metadata": {},
     "output_type": "execute_result"
    }
   ],
   "source": [
    "df.head()"
   ]
  },
  {
   "cell_type": "code",
   "execution_count": 3,
   "metadata": {},
   "outputs": [],
   "source": [
    "y = df.Outcome\n",
    "x = df.loc[:,df.columns != 'Outcome']"
   ]
  },
  {
   "cell_type": "markdown",
   "metadata": {},
   "source": [
    "### PCA\n",
    "First we start with PCA. Using PCA, show the importance of each of the PCA dimensions on a bar plot. What is a reasonable number of dimensions in your opinion to obtain at least 95% explained_var_ratio?"
   ]
  },
  {
   "cell_type": "code",
   "execution_count": 4,
   "metadata": {},
   "outputs": [
    {
     "data": {
      "text/plain": [
       "array([0.26179749, 0.21640127, 0.12870373, 0.10944113, 0.09529305,\n",
       "       0.08532855, 0.05247702, 0.05055776])"
      ]
     },
     "execution_count": 4,
     "metadata": {},
     "output_type": "execute_result"
    }
   ],
   "source": [
    "from sklearn.decomposition import PCA\n",
    "from sklearn.preprocessing import StandardScaler\n",
    "x = StandardScaler().fit_transform(x)\n",
    "pca = PCA()\n",
    "principle_components = pca.fit(x)\n",
    "principle_components.explained_variance_ratio_ "
   ]
  },
  {
   "cell_type": "code",
   "execution_count": 5,
   "metadata": {},
   "outputs": [
    {
     "data": {
      "text/plain": [
       "<BarContainer object of 8 artists>"
      ]
     },
     "execution_count": 5,
     "metadata": {},
     "output_type": "execute_result"
    },
    {
     "data": {
      "image/png": "[encoded data removed]",
      "text/plain": [
       "<Figure size 432x288 with 1 Axes>"
      ]
     },
     "metadata": {
      "needs_background": "light"
     },
     "output_type": "display_data"
    }
   ],
   "source": [
    "plt.bar(np.arange(8),principle_components.explained_variance_ratio_)"
   ]
  },
  {
   "cell_type": "code",
   "execution_count": 6,
   "metadata": {},
   "outputs": [
    {
     "data": {
      "text/plain": [
       "array([0.26179749, 0.21640127, 0.12870373, 0.10944113, 0.09529305,\n",
       "       0.08532855, 0.05247702, 0.05055776])"
      ]
     },
     "execution_count": 6,
     "metadata": {},
     "output_type": "execute_result"
    }
   ],
   "source": [
    "pca = PCA(.95)\n",
    "principle_components = pca.fit(x)\n",
    "principle_components.explained_variance_ratio_ "
   ]
  },
  {
   "cell_type": "code",
   "execution_count": 7,
   "metadata": {},
   "outputs": [
    {
     "data": {
      "text/plain": [
       "array([0.26179749, 0.21640127, 0.12870373, 0.10944113, 0.09529305,\n",
       "       0.08532855, 0.05247702])"
      ]
     },
     "execution_count": 7,
     "metadata": {},
     "output_type": "execute_result"
    }
   ],
   "source": [
    "pca = PCA(7)\n",
    "principle_components = pca.fit(x)\n",
    "principle_components.explained_variance_ratio_ "
   ]
  },
  {
   "cell_type": "markdown",
   "metadata": {},
   "source": [
    "If we keep 7dimensions,we have 94.76% explained_var_ratio, so we need to keep 8dimensions."
   ]
  },
  {
   "cell_type": "markdown",
   "metadata": {},
   "source": [
    "## KMeans\n",
    "Do clustering using KMeans on the original dataset (not the PCA) using K=2. Calculate Homogonity and Completeness score. Is that a good clustering?"
   ]
  },
  {
   "cell_type": "code",
   "execution_count": 77,
   "metadata": {},
   "outputs": [
    {
     "data": {
      "text/plain": [
       "array([[ 0.94344046,  0.4069538 ,  0.40491023, -0.21241448, -0.1091328 ,\n",
       "         0.08843722, -0.01294592,  1.05447672],\n",
       "       [-0.52032171, -0.22444118, -0.22331413,  0.1171498 ,  0.06018839,\n",
       "        -0.04877447,  0.00713987, -0.58155989]])"
      ]
     },
     "execution_count": 77,
     "metadata": {},
     "output_type": "execute_result"
    }
   ],
   "source": [
    "from sklearn.cluster import KMeans\n",
    "kmeans_model = KMeans(n_clusters = 2).fit(x)\n",
    "kmeans_model.cluster_centers_"
   ]
  },
  {
   "cell_type": "code",
   "execution_count": 78,
   "metadata": {},
   "outputs": [],
   "source": [
    "y_pred = kmeans_model.predict(x)"
   ]
  },
  {
   "cell_type": "code",
   "execution_count": 79,
   "metadata": {},
   "outputs": [
    {
     "data": {
      "text/plain": [
       "0.06142730271547042"
      ]
     },
     "execution_count": 79,
     "metadata": {},
     "output_type": "execute_result"
    }
   ],
   "source": [
    "from sklearn.metrics import homogeneity_score,completeness_score\n",
    "homogeneity_score(labels_true=y,labels_pred = y_pred)"
   ]
  },
  {
   "cell_type": "code",
   "execution_count": 80,
   "metadata": {},
   "outputs": [
    {
     "data": {
      "text/plain": [
       "0.06105284728745029"
      ]
     },
     "execution_count": 80,
     "metadata": {},
     "output_type": "execute_result"
    }
   ],
   "source": [
    "completeness_score(labels_true=y,labels_pred = y_pred)"
   ]
  },
  {
   "cell_type": "markdown",
   "metadata": {},
   "source": [
    "### Split the data\n",
    "Split the original dataset (not the PCA) to have 30% test data"
   ]
  },
  {
   "cell_type": "code",
   "execution_count": 81,
   "metadata": {},
   "outputs": [],
   "source": [
    "from sklearn.model_selection import train_test_split\n",
    "x_train,x_test,y_train,y_test=train_test_split(x,y,test_size=0.3,random_state = 2019)"
   ]
  },
  {
   "cell_type": "code",
   "execution_count": 82,
   "metadata": {},
   "outputs": [
    {
     "name": "stdout",
     "output_type": "stream",
     "text": [
      "(537, 8)\n",
      "(537,)\n",
      "(231, 8)\n",
      "(231,)\n"
     ]
    }
   ],
   "source": [
    "print(x_train.shape)\n",
    "print(y_train.shape)\n",
    "print(x_test.shape)\n",
    "print(y_test.shape)"
   ]
  },
  {
   "cell_type": "markdown",
   "metadata": {},
   "source": [
    "### Logistic Regression\n",
    "Using LR, what is the accuracy, precision and recall and F1 score for the training and the test data? Plot the ROC curve"
   ]
  },
  {
   "cell_type": "code",
   "execution_count": 83,
   "metadata": {},
   "outputs": [
    {
     "name": "stderr",
     "output_type": "stream",
     "text": [
      "/anaconda3/lib/python3.6/site-packages/sklearn/linear_model/logistic.py:432: FutureWarning: Default solver will be changed to 'lbfgs' in 0.22. Specify a solver to silence this warning.\n",
      "  FutureWarning)\n"
     ]
    },
    {
     "data": {
      "text/plain": [
       "LogisticRegression(C=1.0, class_weight=None, dual=False, fit_intercept=True,\n",
       "                   intercept_scaling=1, l1_ratio=None, max_iter=100,\n",
       "                   multi_class='warn', n_jobs=None, penalty='l2',\n",
       "                   random_state=None, solver='warn', tol=0.0001, verbose=0,\n",
       "                   warm_start=False)"
      ]
     },
     "execution_count": 83,
     "metadata": {},
     "output_type": "execute_result"
    }
   ],
   "source": [
    "from sklearn.linear_model import LogisticRegression\n",
    "logistic_model = LogisticRegression()\n",
    "logistic_model.fit(x_train, y_train)"
   ]
  },
  {
   "cell_type": "code",
   "execution_count": 84,
   "metadata": {},
   "outputs": [
    {
     "name": "stdout",
     "output_type": "stream",
     "text": [
      "0.7579143389199255\n",
      "0.7965367965367965\n"
     ]
    }
   ],
   "source": [
    "print(logistic_model.score(x_train,y_train))\n",
    "print(logistic_model.score(x_test,y_test))"
   ]
  },
  {
   "cell_type": "code",
   "execution_count": 89,
   "metadata": {},
   "outputs": [
    {
     "name": "stdout",
     "output_type": "stream",
     "text": [
      "0.7288135593220338\n",
      "0.581081081081081\n",
      "0.7965367965367965\n",
      "0.6466165413533834\n"
     ]
    }
   ],
   "source": [
    "#### test data\n",
    "from sklearn import metrics\n",
    "pred = logistic_model.predict(x_test)\n",
    "per = metrics.precision_score(y_test,pred)\n",
    "rec = metrics.recall_score(y_test,pred)\n",
    "acc = metrics.accuracy_score(y_test,pred)\n",
    "f1 = 2*per*rec/(per+rec)\n",
    "print(per)\n",
    "print(rec)\n",
    "print(acc)\n",
    "print(f1)"
   ]
  },
  {
   "cell_type": "code",
   "execution_count": 90,
   "metadata": {},
   "outputs": [
    {
     "name": "stdout",
     "output_type": "stream",
     "text": [
      "0.7051282051282052\n",
      "0.5670103092783505\n",
      "0.7579143389199255\n",
      "0.6285714285714287\n"
     ]
    }
   ],
   "source": [
    "#### training data\n",
    "pred = logistic_model.predict(x_train)\n",
    "per = metrics.precision_score(y_train,pred)\n",
    "rec = metrics.recall_score(y_train,pred)\n",
    "acc = metrics.accuracy_score(y_train,pred)\n",
    "f1 = 2*per*rec/(per+rec)\n",
    "print(per)\n",
    "print(rec)\n",
    "print(acc)\n",
    "print(f1)"
   ]
  },
  {
   "cell_type": "code",
   "execution_count": 91,
   "metadata": {},
   "outputs": [
    {
     "data": {
      "image/png": "[encoded data removed]",
      "text/plain": [
       "<Figure size 432x288 with 1 Axes>"
      ]
     },
     "metadata": {
      "needs_background": "light"
     },
     "output_type": "display_data"
    }
   ],
   "source": [
    "###ROC curve\n",
    "prob_test = logistic_model.predict_proba(x_test) #### the probability you get 0 and 1\n",
    "fpr,tpr,threshold = metrics.roc_curve(y_test,prob_test[:,1])\n",
    "plt.plot(fpr,tpr)\n",
    "plt.plot([0,1],[0,1],'k--')\n",
    "plt.show()"
   ]
  },
  {
   "cell_type": "markdown",
   "metadata": {},
   "source": [
    "plot the test precision curve and accuracy curve for decision thresholds between 0.1 to 1 with a step of 0.1"
   ]
  },
  {
   "cell_type": "code",
   "execution_count": 92,
   "metadata": {},
   "outputs": [
    {
     "data": {
      "text/plain": [
       "[<matplotlib.lines.Line2D at 0x119c9cac8>]"
      ]
     },
     "execution_count": 92,
     "metadata": {},
     "output_type": "execute_result"
    },
    {
     "data": {
      "image/png": "[encoded data removed]",
      "text/plain": [
       "<Figure size 432x288 with 1 Axes>"
      ]
     },
     "metadata": {
      "needs_background": "light"
     },
     "output_type": "display_data"
    }
   ],
   "source": [
    "thresholds = np.arange(0.1,1,0.1)\n",
    "percision_list = []\n",
    "accuracy_list = []\n",
    "for threshold in thresholds:\n",
    "    pred = prob_test[:,1]>threshold\n",
    "    percision_list.append(metrics.precision_score(y_test,pred))\n",
    "    accuracy_list.append(metrics.accuracy_score(y_test,pred))\n",
    "    \n",
    "plt.plot(thresholds,percision_list)\n",
    "plt.plot(thresholds,accuracy_list,c = 'r')"
   ]
  },
  {
   "cell_type": "markdown",
   "metadata": {},
   "source": [
    "## Deep Neural Networks\n",
    "Using Keras, build a DNN that has better accuracy than LR. What is the accuracy, precision and recall and F1 score for the training and the test data? Plot the ROC curve?"
   ]
  },
  {
   "cell_type": "code",
   "execution_count": 120,
   "metadata": {},
   "outputs": [
    {
     "name": "stdout",
     "output_type": "stream",
     "text": [
      "Train on 537 samples, validate on 231 samples\n",
      "Epoch 1/150\n",
      "537/537 [==============================] - 2s 4ms/step - loss: 0.6897 - acc: 0.5214 - val_loss: 0.6705 - val_acc: 0.6797\n",
      "Epoch 2/150\n",
      "537/537 [==============================] - 0s 389us/step - loss: 0.6681 - acc: 0.6387 - val_loss: 0.6519 - val_acc: 0.6797\n",
      "Epoch 3/150\n",
      "537/537 [==============================] - 0s 412us/step - loss: 0.6540 - acc: 0.6387 - val_loss: 0.6374 - val_acc: 0.6797\n",
      "Epoch 4/150\n",
      "537/537 [==============================] - 0s 404us/step - loss: 0.6374 - acc: 0.6425 - val_loss: 0.6183 - val_acc: 0.6797\n",
      "Epoch 5/150\n",
      "537/537 [==============================] - 0s 440us/step - loss: 0.6116 - acc: 0.6536 - val_loss: 0.5946 - val_acc: 0.7056\n",
      "Epoch 6/150\n",
      "537/537 [==============================] - 0s 400us/step - loss: 0.5747 - acc: 0.7244 - val_loss: 0.5543 - val_acc: 0.7359\n",
      "Epoch 7/150\n",
      "537/537 [==============================] - 0s 399us/step - loss: 0.5296 - acc: 0.7561 - val_loss: 0.5236 - val_acc: 0.7662\n",
      "Epoch 8/150\n",
      "537/537 [==============================] - 0s 378us/step - loss: 0.5028 - acc: 0.7672 - val_loss: 0.5050 - val_acc: 0.7749\n",
      "Epoch 9/150\n",
      "537/537 [==============================] - 0s 387us/step - loss: 0.4877 - acc: 0.7784 - val_loss: 0.5020 - val_acc: 0.7792\n",
      "Epoch 10/150\n",
      "537/537 [==============================] - 0s 423us/step - loss: 0.4773 - acc: 0.7914 - val_loss: 0.4986 - val_acc: 0.7576\n",
      "Epoch 11/150\n",
      "537/537 [==============================] - 0s 425us/step - loss: 0.4702 - acc: 0.7914 - val_loss: 0.4935 - val_acc: 0.7532\n",
      "Epoch 12/150\n",
      "537/537 [==============================] - 0s 372us/step - loss: 0.4650 - acc: 0.7840 - val_loss: 0.4928 - val_acc: 0.7749\n",
      "Epoch 13/150\n",
      "537/537 [==============================] - 0s 439us/step - loss: 0.4616 - acc: 0.7821 - val_loss: 0.4905 - val_acc: 0.7706\n",
      "Epoch 14/150\n",
      "537/537 [==============================] - 0s 391us/step - loss: 0.4568 - acc: 0.7803 - val_loss: 0.4885 - val_acc: 0.7662\n",
      "Epoch 15/150\n",
      "537/537 [==============================] - 0s 359us/step - loss: 0.4530 - acc: 0.7877 - val_loss: 0.4876 - val_acc: 0.7619\n",
      "Epoch 16/150\n",
      "537/537 [==============================] - 0s 431us/step - loss: 0.4497 - acc: 0.7877 - val_loss: 0.4880 - val_acc: 0.7706\n",
      "Epoch 17/150\n",
      "537/537 [==============================] - 0s 382us/step - loss: 0.4470 - acc: 0.7933 - val_loss: 0.4872 - val_acc: 0.7749\n",
      "Epoch 18/150\n",
      "537/537 [==============================] - 0s 346us/step - loss: 0.4443 - acc: 0.7877 - val_loss: 0.4933 - val_acc: 0.7619\n",
      "Epoch 19/150\n",
      "537/537 [==============================] - 0s 356us/step - loss: 0.4424 - acc: 0.7933 - val_loss: 0.4898 - val_acc: 0.7576\n",
      "Epoch 20/150\n",
      "537/537 [==============================] - 0s 354us/step - loss: 0.4376 - acc: 0.7896 - val_loss: 0.4883 - val_acc: 0.7619\n",
      "Epoch 21/150\n",
      "537/537 [==============================] - 0s 363us/step - loss: 0.4335 - acc: 0.7933 - val_loss: 0.4920 - val_acc: 0.7619\n",
      "Epoch 22/150\n",
      "537/537 [==============================] - 0s 344us/step - loss: 0.4325 - acc: 0.7858 - val_loss: 0.4967 - val_acc: 0.7576\n",
      "Epoch 23/150\n",
      "537/537 [==============================] - 0s 366us/step - loss: 0.4315 - acc: 0.7914 - val_loss: 0.4891 - val_acc: 0.7619\n",
      "Epoch 24/150\n",
      "537/537 [==============================] - 0s 351us/step - loss: 0.4284 - acc: 0.7933 - val_loss: 0.4927 - val_acc: 0.7662\n",
      "Epoch 25/150\n",
      "537/537 [==============================] - 0s 422us/step - loss: 0.4239 - acc: 0.7970 - val_loss: 0.4962 - val_acc: 0.7532\n",
      "Epoch 26/150\n",
      "537/537 [==============================] - 0s 383us/step - loss: 0.4232 - acc: 0.7896 - val_loss: 0.4972 - val_acc: 0.7532\n",
      "Epoch 27/150\n",
      "537/537 [==============================] - 0s 355us/step - loss: 0.4195 - acc: 0.8007 - val_loss: 0.4970 - val_acc: 0.7662\n",
      "Epoch 28/150\n",
      "537/537 [==============================] - 0s 484us/step - loss: 0.4175 - acc: 0.7933 - val_loss: 0.5017 - val_acc: 0.7489\n",
      "Epoch 29/150\n",
      "537/537 [==============================] - 0s 492us/step - loss: 0.4170 - acc: 0.8026 - val_loss: 0.5009 - val_acc: 0.7706\n",
      "Epoch 30/150\n",
      "537/537 [==============================] - 0s 355us/step - loss: 0.4130 - acc: 0.8119 - val_loss: 0.5086 - val_acc: 0.7792\n",
      "Epoch 31/150\n",
      "537/537 [==============================] - 0s 366us/step - loss: 0.4095 - acc: 0.8101 - val_loss: 0.5032 - val_acc: 0.7749\n",
      "Epoch 32/150\n",
      "537/537 [==============================] - 0s 415us/step - loss: 0.4089 - acc: 0.8045 - val_loss: 0.5021 - val_acc: 0.7706\n",
      "Epoch 33/150\n",
      "537/537 [==============================] - 0s 386us/step - loss: 0.4051 - acc: 0.8119 - val_loss: 0.5094 - val_acc: 0.7792\n",
      "Epoch 34/150\n",
      "537/537 [==============================] - 0s 499us/step - loss: 0.4049 - acc: 0.8119 - val_loss: 0.5097 - val_acc: 0.7749\n",
      "Epoch 35/150\n",
      "537/537 [==============================] - 0s 369us/step - loss: 0.4014 - acc: 0.8175 - val_loss: 0.5114 - val_acc: 0.7619\n",
      "Epoch 36/150\n",
      "537/537 [==============================] - 0s 370us/step - loss: 0.3993 - acc: 0.8194 - val_loss: 0.5126 - val_acc: 0.7619\n",
      "Epoch 37/150\n",
      "537/537 [==============================] - 0s 426us/step - loss: 0.4013 - acc: 0.8175 - val_loss: 0.5123 - val_acc: 0.7662\n",
      "Epoch 38/150\n",
      "537/537 [==============================] - 0s 389us/step - loss: 0.3959 - acc: 0.8156 - val_loss: 0.5118 - val_acc: 0.7619\n",
      "Epoch 39/150\n",
      "537/537 [==============================] - 0s 419us/step - loss: 0.3972 - acc: 0.8138 - val_loss: 0.5131 - val_acc: 0.7619\n",
      "Epoch 40/150\n",
      "537/537 [==============================] - 0s 460us/step - loss: 0.3942 - acc: 0.8156 - val_loss: 0.5179 - val_acc: 0.7576\n",
      "Epoch 41/150\n",
      "537/537 [==============================] - 0s 530us/step - loss: 0.3953 - acc: 0.8119 - val_loss: 0.5131 - val_acc: 0.7619\n",
      "Epoch 42/150\n",
      "537/537 [==============================] - 0s 412us/step - loss: 0.3906 - acc: 0.8194 - val_loss: 0.5180 - val_acc: 0.7706\n",
      "Epoch 43/150\n",
      "537/537 [==============================] - 0s 459us/step - loss: 0.3898 - acc: 0.8156 - val_loss: 0.5183 - val_acc: 0.7576\n",
      "Epoch 44/150\n",
      "537/537 [==============================] - 0s 363us/step - loss: 0.3869 - acc: 0.8156 - val_loss: 0.5184 - val_acc: 0.7662\n",
      "Epoch 45/150\n",
      "537/537 [==============================] - 0s 513us/step - loss: 0.3867 - acc: 0.8212 - val_loss: 0.5194 - val_acc: 0.7619\n",
      "Epoch 46/150\n",
      "537/537 [==============================] - 0s 390us/step - loss: 0.3852 - acc: 0.8194 - val_loss: 0.5127 - val_acc: 0.7662\n",
      "Epoch 47/150\n",
      "537/537 [==============================] - 0s 480us/step - loss: 0.3852 - acc: 0.8250 - val_loss: 0.5229 - val_acc: 0.7576\n",
      "Epoch 48/150\n",
      "537/537 [==============================] - 0s 424us/step - loss: 0.3820 - acc: 0.8156 - val_loss: 0.5214 - val_acc: 0.7576\n",
      "Epoch 49/150\n",
      "537/537 [==============================] - 0s 470us/step - loss: 0.3815 - acc: 0.8194 - val_loss: 0.5198 - val_acc: 0.7619\n",
      "Epoch 50/150\n",
      "537/537 [==============================] - 0s 526us/step - loss: 0.3789 - acc: 0.8138 - val_loss: 0.5324 - val_acc: 0.7662\n",
      "Epoch 51/150\n",
      "537/537 [==============================] - 0s 420us/step - loss: 0.3816 - acc: 0.8231 - val_loss: 0.5211 - val_acc: 0.7619\n",
      "Epoch 52/150\n",
      "537/537 [==============================] - 0s 386us/step - loss: 0.3792 - acc: 0.8194 - val_loss: 0.5269 - val_acc: 0.7576\n",
      "Epoch 53/150\n",
      "537/537 [==============================] - 0s 426us/step - loss: 0.3744 - acc: 0.8250 - val_loss: 0.5215 - val_acc: 0.7619\n",
      "Epoch 54/150\n",
      "537/537 [==============================] - 0s 424us/step - loss: 0.3742 - acc: 0.8250 - val_loss: 0.5236 - val_acc: 0.7619\n",
      "Epoch 55/150\n",
      "537/537 [==============================] - 0s 387us/step - loss: 0.3721 - acc: 0.8268 - val_loss: 0.5270 - val_acc: 0.7532\n",
      "Epoch 56/150\n",
      "537/537 [==============================] - 0s 377us/step - loss: 0.3740 - acc: 0.8305 - val_loss: 0.5265 - val_acc: 0.7576\n",
      "Epoch 57/150\n",
      "537/537 [==============================] - 0s 391us/step - loss: 0.3691 - acc: 0.8268 - val_loss: 0.5221 - val_acc: 0.7532\n",
      "Epoch 58/150\n",
      "537/537 [==============================] - 0s 379us/step - loss: 0.3688 - acc: 0.8287 - val_loss: 0.5214 - val_acc: 0.7619\n",
      "Epoch 59/150\n",
      "537/537 [==============================] - 0s 374us/step - loss: 0.3671 - acc: 0.8343 - val_loss: 0.5274 - val_acc: 0.7489\n",
      "Epoch 60/150\n",
      "537/537 [==============================] - 0s 386us/step - loss: 0.3676 - acc: 0.8268 - val_loss: 0.5266 - val_acc: 0.7489\n",
      "Epoch 61/150\n",
      "537/537 [==============================] - 0s 380us/step - loss: 0.3617 - acc: 0.8305 - val_loss: 0.5266 - val_acc: 0.7619\n",
      "Epoch 62/150\n",
      "537/537 [==============================] - 0s 375us/step - loss: 0.3621 - acc: 0.8380 - val_loss: 0.5262 - val_acc: 0.7532\n",
      "Epoch 63/150\n",
      "537/537 [==============================] - 0s 376us/step - loss: 0.3618 - acc: 0.8305 - val_loss: 0.5395 - val_acc: 0.7576\n",
      "Epoch 64/150\n",
      "537/537 [==============================] - 0s 408us/step - loss: 0.3607 - acc: 0.8380 - val_loss: 0.5287 - val_acc: 0.7576\n",
      "Epoch 65/150\n",
      "537/537 [==============================] - 0s 385us/step - loss: 0.3602 - acc: 0.8343 - val_loss: 0.5324 - val_acc: 0.7532\n",
      "Epoch 66/150\n",
      "537/537 [==============================] - 0s 382us/step - loss: 0.3581 - acc: 0.8436 - val_loss: 0.5345 - val_acc: 0.7489\n",
      "Epoch 67/150\n",
      "537/537 [==============================] - 0s 388us/step - loss: 0.3559 - acc: 0.8361 - val_loss: 0.5332 - val_acc: 0.7576\n",
      "Epoch 68/150\n",
      "537/537 [==============================] - 0s 375us/step - loss: 0.3542 - acc: 0.8361 - val_loss: 0.5323 - val_acc: 0.7619\n",
      "Epoch 69/150\n",
      "537/537 [==============================] - 0s 386us/step - loss: 0.3552 - acc: 0.8361 - val_loss: 0.5348 - val_acc: 0.7446\n",
      "Epoch 70/150\n",
      "537/537 [==============================] - 0s 380us/step - loss: 0.3524 - acc: 0.8399 - val_loss: 0.5324 - val_acc: 0.7532\n",
      "Epoch 71/150\n",
      "537/537 [==============================] - 0s 386us/step - loss: 0.3500 - acc: 0.8417 - val_loss: 0.5427 - val_acc: 0.7576\n",
      "Epoch 72/150\n",
      "537/537 [==============================] - 0s 377us/step - loss: 0.3528 - acc: 0.8473 - val_loss: 0.5358 - val_acc: 0.7489\n",
      "Epoch 73/150\n",
      "537/537 [==============================] - 0s 393us/step - loss: 0.3495 - acc: 0.8454 - val_loss: 0.5382 - val_acc: 0.7532\n",
      "Epoch 74/150\n",
      "537/537 [==============================] - 0s 407us/step - loss: 0.3457 - acc: 0.8492 - val_loss: 0.5371 - val_acc: 0.7532\n",
      "Epoch 75/150\n",
      "537/537 [==============================] - 0s 392us/step - loss: 0.3450 - acc: 0.8436 - val_loss: 0.5432 - val_acc: 0.7619\n",
      "Epoch 76/150\n",
      "537/537 [==============================] - 0s 373us/step - loss: 0.3443 - acc: 0.8454 - val_loss: 0.5379 - val_acc: 0.7619\n",
      "Epoch 77/150\n",
      "537/537 [==============================] - 0s 374us/step - loss: 0.3430 - acc: 0.8492 - val_loss: 0.5425 - val_acc: 0.7532\n",
      "Epoch 78/150\n",
      "537/537 [==============================] - 0s 389us/step - loss: 0.3413 - acc: 0.8473 - val_loss: 0.5374 - val_acc: 0.7532\n",
      "Epoch 79/150\n",
      "537/537 [==============================] - 0s 371us/step - loss: 0.3403 - acc: 0.8529 - val_loss: 0.5406 - val_acc: 0.7576\n",
      "Epoch 80/150\n",
      "537/537 [==============================] - 0s 377us/step - loss: 0.3388 - acc: 0.8492 - val_loss: 0.5400 - val_acc: 0.7662\n",
      "Epoch 81/150\n",
      "537/537 [==============================] - 0s 399us/step - loss: 0.3388 - acc: 0.8510 - val_loss: 0.5384 - val_acc: 0.7532\n",
      "Epoch 82/150\n",
      "537/537 [==============================] - 0s 390us/step - loss: 0.3380 - acc: 0.8492 - val_loss: 0.5432 - val_acc: 0.7446\n",
      "Epoch 83/150\n",
      "537/537 [==============================] - 0s 382us/step - loss: 0.3335 - acc: 0.8547 - val_loss: 0.5474 - val_acc: 0.7489\n",
      "Epoch 84/150\n",
      "537/537 [==============================] - 0s 410us/step - loss: 0.3347 - acc: 0.8510 - val_loss: 0.5403 - val_acc: 0.7576\n",
      "Epoch 85/150\n",
      "537/537 [==============================] - 0s 397us/step - loss: 0.3353 - acc: 0.8454 - val_loss: 0.5394 - val_acc: 0.7662\n",
      "Epoch 86/150\n",
      "537/537 [==============================] - 0s 385us/step - loss: 0.3370 - acc: 0.8603 - val_loss: 0.5460 - val_acc: 0.7532\n",
      "Epoch 87/150\n",
      "537/537 [==============================] - 0s 391us/step - loss: 0.3346 - acc: 0.8473 - val_loss: 0.5439 - val_acc: 0.7576\n",
      "Epoch 88/150\n",
      "537/537 [==============================] - 0s 382us/step - loss: 0.3314 - acc: 0.8529 - val_loss: 0.5452 - val_acc: 0.7532\n",
      "Epoch 89/150\n",
      "537/537 [==============================] - 0s 395us/step - loss: 0.3283 - acc: 0.8603 - val_loss: 0.5457 - val_acc: 0.7446\n",
      "Epoch 90/150\n",
      "537/537 [==============================] - 0s 380us/step - loss: 0.3285 - acc: 0.8566 - val_loss: 0.5459 - val_acc: 0.7489\n",
      "Epoch 91/150\n",
      "537/537 [==============================] - 0s 398us/step - loss: 0.3313 - acc: 0.8566 - val_loss: 0.5474 - val_acc: 0.7403\n",
      "Epoch 92/150\n",
      "537/537 [==============================] - 0s 387us/step - loss: 0.3258 - acc: 0.8585 - val_loss: 0.5458 - val_acc: 0.7532\n",
      "Epoch 93/150\n",
      "537/537 [==============================] - 0s 395us/step - loss: 0.3246 - acc: 0.8566 - val_loss: 0.5425 - val_acc: 0.7532\n",
      "Epoch 94/150\n",
      "537/537 [==============================] - 0s 395us/step - loss: 0.3218 - acc: 0.8603 - val_loss: 0.5482 - val_acc: 0.7576\n",
      "Epoch 95/150\n",
      "537/537 [==============================] - 0s 395us/step - loss: 0.3217 - acc: 0.8585 - val_loss: 0.5465 - val_acc: 0.7446\n",
      "Epoch 96/150\n",
      "537/537 [==============================] - 0s 396us/step - loss: 0.3202 - acc: 0.8715 - val_loss: 0.5473 - val_acc: 0.7532\n",
      "Epoch 97/150\n",
      "537/537 [==============================] - 0s 387us/step - loss: 0.3196 - acc: 0.8622 - val_loss: 0.5467 - val_acc: 0.7489\n",
      "Epoch 98/150\n",
      "537/537 [==============================] - 0s 400us/step - loss: 0.3200 - acc: 0.8641 - val_loss: 0.5545 - val_acc: 0.7403\n",
      "Epoch 99/150\n",
      "537/537 [==============================] - 0s 390us/step - loss: 0.3181 - acc: 0.8659 - val_loss: 0.5500 - val_acc: 0.7532\n",
      "Epoch 100/150\n",
      "537/537 [==============================] - 0s 395us/step - loss: 0.3187 - acc: 0.8678 - val_loss: 0.5541 - val_acc: 0.7489\n",
      "Epoch 101/150\n",
      "537/537 [==============================] - 0s 388us/step - loss: 0.3167 - acc: 0.8678 - val_loss: 0.5520 - val_acc: 0.7489\n",
      "Epoch 102/150\n",
      "537/537 [==============================] - 0s 413us/step - loss: 0.3174 - acc: 0.8659 - val_loss: 0.5561 - val_acc: 0.7489\n",
      "Epoch 103/150\n",
      "537/537 [==============================] - 0s 403us/step - loss: 0.3135 - acc: 0.8622 - val_loss: 0.5556 - val_acc: 0.7532\n",
      "Epoch 104/150\n",
      "537/537 [==============================] - 0s 370us/step - loss: 0.3170 - acc: 0.8566 - val_loss: 0.5571 - val_acc: 0.7489\n",
      "Epoch 105/150\n",
      "537/537 [==============================] - 0s 352us/step - loss: 0.3131 - acc: 0.8622 - val_loss: 0.5615 - val_acc: 0.7489\n",
      "Epoch 106/150\n",
      "537/537 [==============================] - 0s 436us/step - loss: 0.3121 - acc: 0.8696 - val_loss: 0.5596 - val_acc: 0.7446\n",
      "Epoch 107/150\n",
      "537/537 [==============================] - 0s 412us/step - loss: 0.3110 - acc: 0.8659 - val_loss: 0.5541 - val_acc: 0.7489\n",
      "Epoch 108/150\n",
      "537/537 [==============================] - 0s 397us/step - loss: 0.3089 - acc: 0.8603 - val_loss: 0.5598 - val_acc: 0.7532\n",
      "Epoch 109/150\n",
      "537/537 [==============================] - 0s 403us/step - loss: 0.3127 - acc: 0.8585 - val_loss: 0.5655 - val_acc: 0.7489\n",
      "Epoch 110/150\n",
      "537/537 [==============================] - 0s 398us/step - loss: 0.3074 - acc: 0.8659 - val_loss: 0.5738 - val_acc: 0.7489\n",
      "Epoch 111/150\n",
      "537/537 [==============================] - 0s 455us/step - loss: 0.3089 - acc: 0.8734 - val_loss: 0.5651 - val_acc: 0.7532\n",
      "Epoch 112/150\n",
      "537/537 [==============================] - 0s 418us/step - loss: 0.3048 - acc: 0.8659 - val_loss: 0.5635 - val_acc: 0.7489\n",
      "Epoch 113/150\n",
      "537/537 [==============================] - 0s 518us/step - loss: 0.3074 - acc: 0.8715 - val_loss: 0.5688 - val_acc: 0.7273\n",
      "Epoch 114/150\n",
      "537/537 [==============================] - 0s 464us/step - loss: 0.3056 - acc: 0.8678 - val_loss: 0.5626 - val_acc: 0.7532\n",
      "Epoch 115/150\n",
      "537/537 [==============================] - 0s 425us/step - loss: 0.3025 - acc: 0.8752 - val_loss: 0.5759 - val_acc: 0.7489\n",
      "Epoch 116/150\n",
      "537/537 [==============================] - 0s 398us/step - loss: 0.3068 - acc: 0.8622 - val_loss: 0.5777 - val_acc: 0.7489\n",
      "Epoch 117/150\n",
      "537/537 [==============================] - 0s 375us/step - loss: 0.3037 - acc: 0.8696 - val_loss: 0.5775 - val_acc: 0.7489\n",
      "Epoch 118/150\n",
      "537/537 [==============================] - 0s 486us/step - loss: 0.3052 - acc: 0.8678 - val_loss: 0.5696 - val_acc: 0.7532\n",
      "Epoch 119/150\n",
      "537/537 [==============================] - 0s 550us/step - loss: 0.3035 - acc: 0.8659 - val_loss: 0.5774 - val_acc: 0.7489\n",
      "Epoch 120/150\n",
      "537/537 [==============================] - 0s 489us/step - loss: 0.3040 - acc: 0.8585 - val_loss: 0.5646 - val_acc: 0.7532\n",
      "Epoch 121/150\n",
      "537/537 [==============================] - 0s 479us/step - loss: 0.3048 - acc: 0.8678 - val_loss: 0.5725 - val_acc: 0.7532\n",
      "Epoch 122/150\n",
      "537/537 [==============================] - 0s 469us/step - loss: 0.3013 - acc: 0.8715 - val_loss: 0.5805 - val_acc: 0.7532\n",
      "Epoch 123/150\n",
      "537/537 [==============================] - 0s 418us/step - loss: 0.3013 - acc: 0.8678 - val_loss: 0.5871 - val_acc: 0.7489\n",
      "Epoch 124/150\n",
      "537/537 [==============================] - 0s 504us/step - loss: 0.2985 - acc: 0.8696 - val_loss: 0.5797 - val_acc: 0.7576\n",
      "Epoch 125/150\n",
      "537/537 [==============================] - 0s 444us/step - loss: 0.2986 - acc: 0.8734 - val_loss: 0.5718 - val_acc: 0.7489\n",
      "Epoch 126/150\n",
      "537/537 [==============================] - 0s 442us/step - loss: 0.2997 - acc: 0.8641 - val_loss: 0.5834 - val_acc: 0.7576\n",
      "Epoch 127/150\n",
      "537/537 [==============================] - 0s 480us/step - loss: 0.2961 - acc: 0.8734 - val_loss: 0.5789 - val_acc: 0.7446\n",
      "Epoch 128/150\n",
      "537/537 [==============================] - 0s 474us/step - loss: 0.3004 - acc: 0.8659 - val_loss: 0.5741 - val_acc: 0.7619\n",
      "Epoch 129/150\n",
      "537/537 [==============================] - 0s 461us/step - loss: 0.2974 - acc: 0.8715 - val_loss: 0.5785 - val_acc: 0.7619\n",
      "Epoch 130/150\n",
      "537/537 [==============================] - 0s 457us/step - loss: 0.2937 - acc: 0.8771 - val_loss: 0.5806 - val_acc: 0.7576\n",
      "Epoch 131/150\n",
      "537/537 [==============================] - 0s 420us/step - loss: 0.2951 - acc: 0.8752 - val_loss: 0.5814 - val_acc: 0.7619\n",
      "Epoch 132/150\n",
      "537/537 [==============================] - 0s 435us/step - loss: 0.2962 - acc: 0.8734 - val_loss: 0.5810 - val_acc: 0.7532\n",
      "Epoch 133/150\n",
      "537/537 [==============================] - 0s 395us/step - loss: 0.2948 - acc: 0.8715 - val_loss: 0.5897 - val_acc: 0.7532\n",
      "Epoch 134/150\n",
      "537/537 [==============================] - 0s 396us/step - loss: 0.2925 - acc: 0.8734 - val_loss: 0.5831 - val_acc: 0.7576\n",
      "Epoch 135/150\n",
      "537/537 [==============================] - 0s 405us/step - loss: 0.2912 - acc: 0.8734 - val_loss: 0.5875 - val_acc: 0.7619\n",
      "Epoch 136/150\n",
      "537/537 [==============================] - 0s 403us/step - loss: 0.2928 - acc: 0.8790 - val_loss: 0.5842 - val_acc: 0.7489\n",
      "Epoch 137/150\n",
      "537/537 [==============================] - 0s 411us/step - loss: 0.2911 - acc: 0.8790 - val_loss: 0.5860 - val_acc: 0.7576\n",
      "Epoch 138/150\n",
      "537/537 [==============================] - 0s 422us/step - loss: 0.2911 - acc: 0.8678 - val_loss: 0.5806 - val_acc: 0.7576\n",
      "Epoch 139/150\n",
      "537/537 [==============================] - 0s 467us/step - loss: 0.2901 - acc: 0.8790 - val_loss: 0.5821 - val_acc: 0.7662\n",
      "Epoch 140/150\n",
      "537/537 [==============================] - 0s 465us/step - loss: 0.2901 - acc: 0.8696 - val_loss: 0.5836 - val_acc: 0.7403\n",
      "Epoch 141/150\n",
      "537/537 [==============================] - 0s 470us/step - loss: 0.2876 - acc: 0.8790 - val_loss: 0.5857 - val_acc: 0.7619\n",
      "Epoch 142/150\n",
      "537/537 [==============================] - 0s 414us/step - loss: 0.2883 - acc: 0.8678 - val_loss: 0.5807 - val_acc: 0.7576\n",
      "Epoch 143/150\n",
      "537/537 [==============================] - 0s 488us/step - loss: 0.2861 - acc: 0.8752 - val_loss: 0.5814 - val_acc: 0.7662\n",
      "Epoch 144/150\n",
      "537/537 [==============================] - 0s 425us/step - loss: 0.2867 - acc: 0.8771 - val_loss: 0.5854 - val_acc: 0.7576\n",
      "Epoch 145/150\n",
      "537/537 [==============================] - 0s 407us/step - loss: 0.2872 - acc: 0.8734 - val_loss: 0.5876 - val_acc: 0.7619\n",
      "Epoch 146/150\n",
      "537/537 [==============================] - 0s 425us/step - loss: 0.2904 - acc: 0.8696 - val_loss: 0.5844 - val_acc: 0.7576\n",
      "Epoch 147/150\n",
      "537/537 [==============================] - 0s 415us/step - loss: 0.2872 - acc: 0.8715 - val_loss: 0.5868 - val_acc: 0.7662\n",
      "Epoch 148/150\n",
      "537/537 [==============================] - 0s 415us/step - loss: 0.2853 - acc: 0.8734 - val_loss: 0.5930 - val_acc: 0.7576\n",
      "Epoch 149/150\n",
      "537/537 [==============================] - 0s 417us/step - loss: 0.2900 - acc: 0.8771 - val_loss: 0.5848 - val_acc: 0.7403\n",
      "Epoch 150/150\n",
      "537/537 [==============================] - 0s 402us/step - loss: 0.2832 - acc: 0.8790 - val_loss: 0.5892 - val_acc: 0.7619\n"
     ]
    }
   ],
   "source": [
    "import keras\n",
    "from keras import layers\n",
    "\n",
    "model = keras.Sequential()\n",
    "model.add(keras.layers.Dense(10,input_dim = 8,activation = \"relu\")) \n",
    "model.add(keras.layers.Dense(8,activation = \"relu\"))\n",
    "model.add(keras.layers.Dense(6,activation = \"relu\"))\n",
    "model.add(keras.layers.Dense(5,activation = \"relu\"))\n",
    "model.add(keras.layers.Dense(1,activation = \"sigmoid\"))\n",
    "\n",
    "model.compile(loss = \"binary_crossentropy\",optimizer = 'adam',metrics = ['accuracy'])\n",
    "history = model.fit(x_train,y_train,epochs = 150, batch_size = 10,validation_data=(x_test, y_test))"
   ]
  },
  {
   "cell_type": "code",
   "execution_count": 121,
   "metadata": {},
   "outputs": [
    {
     "name": "stdout",
     "output_type": "stream",
     "text": [
      "537/537 [==============================] - 0s 38us/step\n",
      "[0.2747054108361292, 0.8826815650227794]\n",
      "231/231 [==============================] - 0s 51us/step\n",
      "[0.5892356361919667, 0.7619047619047619]\n"
     ]
    }
   ],
   "source": [
    "print(model.evaluate(x_train,y_train))\n",
    "print(model.evaluate(x_test,y_test))"
   ]
  },
  {
   "cell_type": "code",
   "execution_count": 122,
   "metadata": {},
   "outputs": [
    {
     "data": {
      "text/plain": [
       "<matplotlib.legend.Legend at 0x1a4c5ade10>"
      ]
     },
     "execution_count": 122,
     "metadata": {},
     "output_type": "execute_result"
    },
    {
     "data": {
      "image/png": "[encoded data removed]",
      "text/plain": [
       "<Figure size 432x288 with 1 Axes>"
      ]
     },
     "metadata": {
      "needs_background": "light"
     },
     "output_type": "display_data"
    },
    {
     "data": {
      "image/png": "[encoded data removed]",
      "text/plain": [
       "<Figure size 432x288 with 1 Axes>"
      ]
     },
     "metadata": {
      "needs_background": "light"
     },
     "output_type": "display_data"
    }
   ],
   "source": [
    "import matplotlib.pyplot as plt\n",
    "%matplotlib inline\n",
    "# Plot training & validation accuracy values\n",
    "plt.plot(history.history['acc'])\n",
    "plt.plot(history.history['val_acc'])\n",
    "plt.title('Model accuracy')\n",
    "plt.ylabel('Accuracy')\n",
    "plt.xlabel('Epoch')\n",
    "plt.legend(['Train', 'Test'], loc='upper left')\n",
    "\n",
    "plt.figure()\n",
    "plt.plot(history.history['loss'])\n",
    "plt.plot(history.history['val_loss'])\n",
    "plt.title('Model loss')\n",
    "plt.ylabel('Loss')\n",
    "plt.xlabel('Epoch')\n",
    "plt.legend(['Train', 'Test'], loc='upper left')"
   ]
  },
  {
   "cell_type": "markdown",
   "metadata": {},
   "source": [
    "Since the model is overfitting, so I am gonna do the regulization."
   ]
  },
  {
   "cell_type": "code",
   "execution_count": 137,
   "metadata": {},
   "outputs": [
    {
     "name": "stdout",
     "output_type": "stream",
     "text": [
      "Train on 537 samples, validate on 231 samples\n",
      "Epoch 1/150\n",
      "537/537 [==============================] - 3s 5ms/step - loss: 0.8592 - acc: 0.6499 - val_loss: 0.8085 - val_acc: 0.7316\n",
      "Epoch 2/150\n",
      "537/537 [==============================] - 0s 422us/step - loss: 0.8021 - acc: 0.6667 - val_loss: 0.7520 - val_acc: 0.7273\n",
      "Epoch 3/150\n",
      "537/537 [==============================] - 0s 407us/step - loss: 0.7529 - acc: 0.6629 - val_loss: 0.7001 - val_acc: 0.7359\n",
      "Epoch 4/150\n",
      "537/537 [==============================] - 0s 406us/step - loss: 0.7053 - acc: 0.6965 - val_loss: 0.6572 - val_acc: 0.7403\n",
      "Epoch 5/150\n",
      "537/537 [==============================] - 0s 399us/step - loss: 0.6647 - acc: 0.7132 - val_loss: 0.6181 - val_acc: 0.7532\n",
      "Epoch 6/150\n",
      "537/537 [==============================] - 0s 405us/step - loss: 0.6299 - acc: 0.7337 - val_loss: 0.5828 - val_acc: 0.7706\n",
      "Epoch 7/150\n",
      "537/537 [==============================] - 0s 414us/step - loss: 0.5976 - acc: 0.7505 - val_loss: 0.5594 - val_acc: 0.7749\n",
      "Epoch 8/150\n",
      "537/537 [==============================] - 0s 410us/step - loss: 0.5761 - acc: 0.7654 - val_loss: 0.5462 - val_acc: 0.7922\n",
      "Epoch 9/150\n",
      "537/537 [==============================] - 0s 433us/step - loss: 0.5586 - acc: 0.7709 - val_loss: 0.5386 - val_acc: 0.7922\n",
      "Epoch 10/150\n",
      "537/537 [==============================] - 0s 411us/step - loss: 0.5459 - acc: 0.7654 - val_loss: 0.5296 - val_acc: 0.7922\n",
      "Epoch 11/150\n",
      "537/537 [==============================] - 0s 416us/step - loss: 0.5368 - acc: 0.7821 - val_loss: 0.5275 - val_acc: 0.7749\n",
      "Epoch 12/150\n",
      "537/537 [==============================] - 0s 415us/step - loss: 0.5305 - acc: 0.7765 - val_loss: 0.5200 - val_acc: 0.7792\n",
      "Epoch 13/150\n",
      "537/537 [==============================] - 0s 402us/step - loss: 0.5244 - acc: 0.7840 - val_loss: 0.5180 - val_acc: 0.7792\n",
      "Epoch 14/150\n",
      "537/537 [==============================] - 0s 401us/step - loss: 0.5210 - acc: 0.7784 - val_loss: 0.5149 - val_acc: 0.7792\n",
      "Epoch 15/150\n",
      "537/537 [==============================] - 0s 418us/step - loss: 0.5166 - acc: 0.7784 - val_loss: 0.5130 - val_acc: 0.7835\n",
      "Epoch 16/150\n",
      "537/537 [==============================] - 0s 406us/step - loss: 0.5132 - acc: 0.7728 - val_loss: 0.5120 - val_acc: 0.7835\n",
      "Epoch 17/150\n",
      "537/537 [==============================] - 0s 416us/step - loss: 0.5096 - acc: 0.7821 - val_loss: 0.5098 - val_acc: 0.7792\n",
      "Epoch 18/150\n",
      "537/537 [==============================] - 0s 414us/step - loss: 0.5081 - acc: 0.7803 - val_loss: 0.5106 - val_acc: 0.7792\n",
      "Epoch 19/150\n",
      "537/537 [==============================] - 0s 405us/step - loss: 0.5060 - acc: 0.7784 - val_loss: 0.5103 - val_acc: 0.7792\n",
      "Epoch 20/150\n",
      "537/537 [==============================] - 0s 420us/step - loss: 0.5054 - acc: 0.7914 - val_loss: 0.5050 - val_acc: 0.7879\n",
      "Epoch 21/150\n",
      "537/537 [==============================] - 0s 410us/step - loss: 0.5029 - acc: 0.7747 - val_loss: 0.5049 - val_acc: 0.7965\n",
      "Epoch 22/150\n",
      "537/537 [==============================] - 0s 417us/step - loss: 0.4994 - acc: 0.7784 - val_loss: 0.5027 - val_acc: 0.8009\n",
      "Epoch 23/150\n",
      "537/537 [==============================] - 0s 407us/step - loss: 0.4985 - acc: 0.7840 - val_loss: 0.5022 - val_acc: 0.7965\n",
      "Epoch 24/150\n",
      "537/537 [==============================] - 0s 416us/step - loss: 0.4972 - acc: 0.7765 - val_loss: 0.5015 - val_acc: 0.8009\n",
      "Epoch 25/150\n",
      "537/537 [==============================] - 0s 588us/step - loss: 0.4954 - acc: 0.7821 - val_loss: 0.5006 - val_acc: 0.8009\n",
      "Epoch 26/150\n",
      "537/537 [==============================] - 0s 468us/step - loss: 0.4966 - acc: 0.7784 - val_loss: 0.4995 - val_acc: 0.7922\n",
      "Epoch 27/150\n",
      "537/537 [==============================] - 0s 516us/step - loss: 0.4937 - acc: 0.7821 - val_loss: 0.4990 - val_acc: 0.7965\n",
      "Epoch 28/150\n",
      "537/537 [==============================] - 0s 493us/step - loss: 0.4916 - acc: 0.7840 - val_loss: 0.5005 - val_acc: 0.7965\n",
      "Epoch 29/150\n",
      "537/537 [==============================] - 0s 442us/step - loss: 0.4899 - acc: 0.7840 - val_loss: 0.5020 - val_acc: 0.7922\n",
      "Epoch 30/150\n",
      "537/537 [==============================] - 0s 428us/step - loss: 0.4903 - acc: 0.7821 - val_loss: 0.5004 - val_acc: 0.7965\n",
      "Epoch 31/150\n",
      "537/537 [==============================] - 0s 412us/step - loss: 0.4879 - acc: 0.7877 - val_loss: 0.4995 - val_acc: 0.7965\n",
      "Epoch 32/150\n",
      "537/537 [==============================] - 0s 546us/step - loss: 0.4871 - acc: 0.7933 - val_loss: 0.5024 - val_acc: 0.7879\n",
      "Epoch 33/150\n",
      "537/537 [==============================] - 0s 571us/step - loss: 0.4863 - acc: 0.7896 - val_loss: 0.4982 - val_acc: 0.7879\n",
      "Epoch 34/150\n",
      "537/537 [==============================] - 0s 555us/step - loss: 0.4850 - acc: 0.7858 - val_loss: 0.4986 - val_acc: 0.7965\n",
      "Epoch 35/150\n",
      "537/537 [==============================] - 0s 522us/step - loss: 0.4880 - acc: 0.7784 - val_loss: 0.4969 - val_acc: 0.8009\n",
      "Epoch 36/150\n",
      "537/537 [==============================] - 0s 425us/step - loss: 0.4836 - acc: 0.7858 - val_loss: 0.4990 - val_acc: 0.7922\n",
      "Epoch 37/150\n",
      "537/537 [==============================] - 0s 503us/step - loss: 0.4818 - acc: 0.7896 - val_loss: 0.4985 - val_acc: 0.7922\n",
      "Epoch 38/150\n",
      "537/537 [==============================] - 0s 465us/step - loss: 0.4819 - acc: 0.7877 - val_loss: 0.5000 - val_acc: 0.7922\n",
      "Epoch 39/150\n",
      "537/537 [==============================] - 0s 426us/step - loss: 0.4804 - acc: 0.7896 - val_loss: 0.4970 - val_acc: 0.7922\n",
      "Epoch 40/150\n",
      "537/537 [==============================] - 0s 455us/step - loss: 0.4788 - acc: 0.7933 - val_loss: 0.4984 - val_acc: 0.7922\n",
      "Epoch 41/150\n",
      "537/537 [==============================] - 0s 441us/step - loss: 0.4788 - acc: 0.7877 - val_loss: 0.4969 - val_acc: 0.7965\n",
      "Epoch 42/150\n",
      "537/537 [==============================] - 0s 441us/step - loss: 0.4776 - acc: 0.7877 - val_loss: 0.4967 - val_acc: 0.7965\n",
      "Epoch 43/150\n",
      "537/537 [==============================] - 0s 433us/step - loss: 0.4808 - acc: 0.7952 - val_loss: 0.4961 - val_acc: 0.7922\n",
      "Epoch 44/150\n",
      "537/537 [==============================] - 0s 531us/step - loss: 0.4768 - acc: 0.7989 - val_loss: 0.4976 - val_acc: 0.7922\n",
      "Epoch 45/150\n",
      "537/537 [==============================] - 0s 501us/step - loss: 0.4768 - acc: 0.7877 - val_loss: 0.4961 - val_acc: 0.7965\n",
      "Epoch 46/150\n",
      "537/537 [==============================] - 0s 539us/step - loss: 0.4784 - acc: 0.7952 - val_loss: 0.4940 - val_acc: 0.7922\n",
      "Epoch 47/150\n",
      "537/537 [==============================] - 0s 447us/step - loss: 0.4754 - acc: 0.8007 - val_loss: 0.4942 - val_acc: 0.7922\n",
      "Epoch 48/150\n",
      "537/537 [==============================] - 0s 461us/step - loss: 0.4740 - acc: 0.7970 - val_loss: 0.4970 - val_acc: 0.7922\n",
      "Epoch 49/150\n",
      "537/537 [==============================] - 0s 463us/step - loss: 0.4753 - acc: 0.7933 - val_loss: 0.4922 - val_acc: 0.7965\n",
      "Epoch 50/150\n",
      "537/537 [==============================] - 0s 455us/step - loss: 0.4735 - acc: 0.7952 - val_loss: 0.4939 - val_acc: 0.7965\n",
      "Epoch 51/150\n",
      "537/537 [==============================] - 0s 427us/step - loss: 0.4740 - acc: 0.7989 - val_loss: 0.4931 - val_acc: 0.7965\n",
      "Epoch 52/150\n",
      "537/537 [==============================] - 0s 571us/step - loss: 0.4729 - acc: 0.8007 - val_loss: 0.4930 - val_acc: 0.7922\n",
      "Epoch 53/150\n",
      "537/537 [==============================] - 0s 471us/step - loss: 0.4702 - acc: 0.8007 - val_loss: 0.4950 - val_acc: 0.7965\n",
      "Epoch 54/150\n",
      "537/537 [==============================] - 0s 442us/step - loss: 0.4701 - acc: 0.7952 - val_loss: 0.4937 - val_acc: 0.7965\n",
      "Epoch 55/150\n",
      "537/537 [==============================] - 0s 465us/step - loss: 0.4691 - acc: 0.8026 - val_loss: 0.4948 - val_acc: 0.7965\n",
      "Epoch 56/150\n",
      "537/537 [==============================] - 0s 434us/step - loss: 0.4685 - acc: 0.7970 - val_loss: 0.4937 - val_acc: 0.8009\n",
      "Epoch 57/150\n",
      "537/537 [==============================] - 0s 487us/step - loss: 0.4689 - acc: 0.7989 - val_loss: 0.4954 - val_acc: 0.7965\n",
      "Epoch 58/150\n",
      "537/537 [==============================] - 0s 433us/step - loss: 0.4683 - acc: 0.7970 - val_loss: 0.4945 - val_acc: 0.7922\n",
      "Epoch 59/150\n",
      "537/537 [==============================] - 0s 443us/step - loss: 0.4668 - acc: 0.8045 - val_loss: 0.4910 - val_acc: 0.7965\n",
      "Epoch 60/150\n",
      "537/537 [==============================] - 0s 434us/step - loss: 0.4677 - acc: 0.7952 - val_loss: 0.4946 - val_acc: 0.7965\n",
      "Epoch 61/150\n",
      "537/537 [==============================] - 0s 439us/step - loss: 0.4661 - acc: 0.7989 - val_loss: 0.4893 - val_acc: 0.7879\n",
      "Epoch 62/150\n",
      "537/537 [==============================] - 0s 420us/step - loss: 0.4678 - acc: 0.7989 - val_loss: 0.4908 - val_acc: 0.8009\n",
      "Epoch 63/150\n",
      "537/537 [==============================] - 0s 431us/step - loss: 0.4659 - acc: 0.8026 - val_loss: 0.4933 - val_acc: 0.7922\n",
      "Epoch 64/150\n",
      "537/537 [==============================] - 0s 458us/step - loss: 0.4649 - acc: 0.8007 - val_loss: 0.4890 - val_acc: 0.8009\n",
      "Epoch 65/150\n",
      "537/537 [==============================] - 0s 432us/step - loss: 0.4637 - acc: 0.8045 - val_loss: 0.4930 - val_acc: 0.7965\n",
      "Epoch 66/150\n",
      "537/537 [==============================] - 0s 471us/step - loss: 0.4658 - acc: 0.7989 - val_loss: 0.4927 - val_acc: 0.7922\n",
      "Epoch 67/150\n",
      "537/537 [==============================] - 0s 449us/step - loss: 0.4624 - acc: 0.8045 - val_loss: 0.4918 - val_acc: 0.7965\n",
      "Epoch 68/150\n",
      "537/537 [==============================] - 0s 435us/step - loss: 0.4633 - acc: 0.8007 - val_loss: 0.4907 - val_acc: 0.7965\n",
      "Epoch 69/150\n",
      "537/537 [==============================] - 0s 430us/step - loss: 0.4627 - acc: 0.8026 - val_loss: 0.4895 - val_acc: 0.8052\n",
      "Epoch 70/150\n",
      "537/537 [==============================] - 0s 443us/step - loss: 0.4616 - acc: 0.8045 - val_loss: 0.4900 - val_acc: 0.7965\n",
      "Epoch 71/150\n",
      "537/537 [==============================] - 0s 416us/step - loss: 0.4620 - acc: 0.8007 - val_loss: 0.4885 - val_acc: 0.7922\n",
      "Epoch 72/150\n",
      "537/537 [==============================] - 0s 481us/step - loss: 0.4603 - acc: 0.7970 - val_loss: 0.4918 - val_acc: 0.7879\n",
      "Epoch 73/150\n",
      "537/537 [==============================] - 0s 536us/step - loss: 0.4601 - acc: 0.8026 - val_loss: 0.4903 - val_acc: 0.7965\n",
      "Epoch 74/150\n",
      "537/537 [==============================] - 0s 582us/step - loss: 0.4591 - acc: 0.8045 - val_loss: 0.4910 - val_acc: 0.7835\n",
      "Epoch 75/150\n",
      "537/537 [==============================] - 0s 429us/step - loss: 0.4594 - acc: 0.8007 - val_loss: 0.4935 - val_acc: 0.7922\n",
      "Epoch 76/150\n",
      "537/537 [==============================] - 0s 421us/step - loss: 0.4598 - acc: 0.8007 - val_loss: 0.4961 - val_acc: 0.8009\n",
      "Epoch 77/150\n",
      "537/537 [==============================] - 0s 534us/step - loss: 0.4584 - acc: 0.7989 - val_loss: 0.4896 - val_acc: 0.8009\n",
      "Epoch 78/150\n",
      "537/537 [==============================] - 0s 563us/step - loss: 0.4582 - acc: 0.8082 - val_loss: 0.4896 - val_acc: 0.7922\n",
      "Epoch 79/150\n",
      "537/537 [==============================] - 0s 564us/step - loss: 0.4570 - acc: 0.8119 - val_loss: 0.4906 - val_acc: 0.7879\n",
      "Epoch 80/150\n",
      "537/537 [==============================] - 0s 554us/step - loss: 0.4564 - acc: 0.8026 - val_loss: 0.4887 - val_acc: 0.7965\n",
      "Epoch 81/150\n",
      "537/537 [==============================] - 0s 437us/step - loss: 0.4581 - acc: 0.8063 - val_loss: 0.4881 - val_acc: 0.7922\n",
      "Epoch 82/150\n",
      "537/537 [==============================] - 0s 518us/step - loss: 0.4554 - acc: 0.8101 - val_loss: 0.4903 - val_acc: 0.7922\n",
      "Epoch 83/150\n",
      "537/537 [==============================] - 0s 547us/step - loss: 0.4555 - acc: 0.8026 - val_loss: 0.4887 - val_acc: 0.7965\n",
      "Epoch 84/150\n",
      "537/537 [==============================] - 0s 452us/step - loss: 0.4564 - acc: 0.8007 - val_loss: 0.4872 - val_acc: 0.8009\n",
      "Epoch 85/150\n",
      "537/537 [==============================] - 0s 494us/step - loss: 0.4551 - acc: 0.7989 - val_loss: 0.4897 - val_acc: 0.7879\n",
      "Epoch 86/150\n",
      "537/537 [==============================] - 0s 529us/step - loss: 0.4541 - acc: 0.8045 - val_loss: 0.4905 - val_acc: 0.8009\n",
      "Epoch 87/150\n",
      "537/537 [==============================] - 0s 547us/step - loss: 0.4527 - acc: 0.8045 - val_loss: 0.4880 - val_acc: 0.7922\n",
      "Epoch 88/150\n",
      "537/537 [==============================] - 0s 549us/step - loss: 0.4523 - acc: 0.8119 - val_loss: 0.4888 - val_acc: 0.7879\n",
      "Epoch 89/150\n",
      "537/537 [==============================] - 0s 566us/step - loss: 0.4532 - acc: 0.7989 - val_loss: 0.4908 - val_acc: 0.7965\n",
      "Epoch 90/150\n",
      "537/537 [==============================] - 0s 549us/step - loss: 0.4533 - acc: 0.8101 - val_loss: 0.4887 - val_acc: 0.7879\n",
      "Epoch 91/150\n",
      "537/537 [==============================] - 0s 531us/step - loss: 0.4525 - acc: 0.8156 - val_loss: 0.4861 - val_acc: 0.7965\n",
      "Epoch 92/150\n",
      "537/537 [==============================] - 0s 521us/step - loss: 0.4511 - acc: 0.8082 - val_loss: 0.4871 - val_acc: 0.7922\n",
      "Epoch 93/150\n",
      "537/537 [==============================] - 0s 536us/step - loss: 0.4532 - acc: 0.8063 - val_loss: 0.4873 - val_acc: 0.7922\n",
      "Epoch 94/150\n",
      "537/537 [==============================] - 0s 538us/step - loss: 0.4497 - acc: 0.8045 - val_loss: 0.4892 - val_acc: 0.7965\n",
      "Epoch 95/150\n",
      "537/537 [==============================] - 0s 540us/step - loss: 0.4502 - acc: 0.8082 - val_loss: 0.4869 - val_acc: 0.7965\n",
      "Epoch 96/150\n",
      "537/537 [==============================] - 0s 526us/step - loss: 0.4524 - acc: 0.8119 - val_loss: 0.4885 - val_acc: 0.7879\n",
      "Epoch 97/150\n",
      "537/537 [==============================] - 0s 455us/step - loss: 0.4502 - acc: 0.8082 - val_loss: 0.4888 - val_acc: 0.7879\n",
      "Epoch 98/150\n",
      "537/537 [==============================] - 0s 524us/step - loss: 0.4511 - acc: 0.8212 - val_loss: 0.4865 - val_acc: 0.7879\n",
      "Epoch 99/150\n",
      "537/537 [==============================] - 0s 572us/step - loss: 0.4505 - acc: 0.8082 - val_loss: 0.4880 - val_acc: 0.7879\n",
      "Epoch 100/150\n",
      "537/537 [==============================] - 0s 446us/step - loss: 0.4477 - acc: 0.8063 - val_loss: 0.4895 - val_acc: 0.7922\n",
      "Epoch 101/150\n",
      "537/537 [==============================] - 0s 506us/step - loss: 0.4484 - acc: 0.8101 - val_loss: 0.4891 - val_acc: 0.7879\n",
      "Epoch 102/150\n",
      "537/537 [==============================] - 0s 442us/step - loss: 0.4479 - acc: 0.8101 - val_loss: 0.4945 - val_acc: 0.8009\n",
      "Epoch 103/150\n",
      "537/537 [==============================] - 0s 516us/step - loss: 0.4490 - acc: 0.8156 - val_loss: 0.4907 - val_acc: 0.7965\n",
      "Epoch 104/150\n",
      "537/537 [==============================] - 0s 470us/step - loss: 0.4462 - acc: 0.8138 - val_loss: 0.4897 - val_acc: 0.7879\n",
      "Epoch 105/150\n",
      "537/537 [==============================] - 0s 541us/step - loss: 0.4472 - acc: 0.8156 - val_loss: 0.4874 - val_acc: 0.7922\n",
      "Epoch 106/150\n",
      "537/537 [==============================] - 0s 486us/step - loss: 0.4462 - acc: 0.8175 - val_loss: 0.4913 - val_acc: 0.7922\n",
      "Epoch 107/150\n",
      "537/537 [==============================] - 0s 500us/step - loss: 0.4484 - acc: 0.8138 - val_loss: 0.4955 - val_acc: 0.7965\n",
      "Epoch 108/150\n",
      "537/537 [==============================] - 0s 532us/step - loss: 0.4476 - acc: 0.8138 - val_loss: 0.4907 - val_acc: 0.7879\n",
      "Epoch 109/150\n",
      "537/537 [==============================] - 0s 485us/step - loss: 0.4463 - acc: 0.8138 - val_loss: 0.4869 - val_acc: 0.7879\n",
      "Epoch 110/150\n",
      "537/537 [==============================] - 0s 556us/step - loss: 0.4443 - acc: 0.8101 - val_loss: 0.4913 - val_acc: 0.7965\n",
      "Epoch 111/150\n",
      "537/537 [==============================] - 0s 637us/step - loss: 0.4447 - acc: 0.8194 - val_loss: 0.4917 - val_acc: 0.7965\n",
      "Epoch 112/150\n",
      "537/537 [==============================] - 0s 514us/step - loss: 0.4456 - acc: 0.8119 - val_loss: 0.4904 - val_acc: 0.7879\n",
      "Epoch 113/150\n",
      "537/537 [==============================] - 0s 477us/step - loss: 0.4466 - acc: 0.8156 - val_loss: 0.4906 - val_acc: 0.7879\n",
      "Epoch 114/150\n",
      "537/537 [==============================] - 0s 505us/step - loss: 0.4446 - acc: 0.8138 - val_loss: 0.4902 - val_acc: 0.7879\n",
      "Epoch 115/150\n",
      "537/537 [==============================] - 0s 531us/step - loss: 0.4439 - acc: 0.8101 - val_loss: 0.4938 - val_acc: 0.7922\n",
      "Epoch 116/150\n",
      "537/537 [==============================] - 0s 484us/step - loss: 0.4461 - acc: 0.8156 - val_loss: 0.4940 - val_acc: 0.7965\n",
      "Epoch 117/150\n",
      "537/537 [==============================] - 0s 515us/step - loss: 0.4432 - acc: 0.8250 - val_loss: 0.4900 - val_acc: 0.7922\n",
      "Epoch 118/150\n",
      "537/537 [==============================] - 0s 481us/step - loss: 0.4424 - acc: 0.8101 - val_loss: 0.4912 - val_acc: 0.7922\n",
      "Epoch 119/150\n",
      "537/537 [==============================] - 0s 488us/step - loss: 0.4412 - acc: 0.8231 - val_loss: 0.4898 - val_acc: 0.7835\n",
      "Epoch 120/150\n",
      "537/537 [==============================] - 0s 574us/step - loss: 0.4421 - acc: 0.8082 - val_loss: 0.4917 - val_acc: 0.7922\n",
      "Epoch 121/150\n",
      "537/537 [==============================] - 0s 502us/step - loss: 0.4421 - acc: 0.8231 - val_loss: 0.4902 - val_acc: 0.7835\n",
      "Epoch 122/150\n",
      "537/537 [==============================] - 0s 508us/step - loss: 0.4443 - acc: 0.8138 - val_loss: 0.4917 - val_acc: 0.7835\n",
      "Epoch 123/150\n",
      "537/537 [==============================] - 0s 503us/step - loss: 0.4435 - acc: 0.8119 - val_loss: 0.4916 - val_acc: 0.7922\n",
      "Epoch 124/150\n",
      "537/537 [==============================] - 0s 543us/step - loss: 0.4420 - acc: 0.8156 - val_loss: 0.4908 - val_acc: 0.7879\n",
      "Epoch 125/150\n",
      "537/537 [==============================] - 0s 484us/step - loss: 0.4420 - acc: 0.8138 - val_loss: 0.4894 - val_acc: 0.7835\n",
      "Epoch 126/150\n",
      "537/537 [==============================] - 0s 570us/step - loss: 0.4411 - acc: 0.8212 - val_loss: 0.4894 - val_acc: 0.7922\n",
      "Epoch 127/150\n",
      "537/537 [==============================] - 0s 498us/step - loss: 0.4458 - acc: 0.8138 - val_loss: 0.4902 - val_acc: 0.7835\n",
      "Epoch 128/150\n",
      "537/537 [==============================] - 0s 507us/step - loss: 0.4395 - acc: 0.8119 - val_loss: 0.4957 - val_acc: 0.7965\n",
      "Epoch 129/150\n",
      "537/537 [==============================] - 0s 525us/step - loss: 0.4393 - acc: 0.8175 - val_loss: 0.4929 - val_acc: 0.7835\n",
      "Epoch 130/150\n",
      "537/537 [==============================] - 0s 566us/step - loss: 0.4392 - acc: 0.8156 - val_loss: 0.4918 - val_acc: 0.7879\n",
      "Epoch 131/150\n",
      "537/537 [==============================] - 0s 561us/step - loss: 0.4398 - acc: 0.8101 - val_loss: 0.4950 - val_acc: 0.8009\n",
      "Epoch 132/150\n",
      "537/537 [==============================] - 0s 511us/step - loss: 0.4400 - acc: 0.8212 - val_loss: 0.4936 - val_acc: 0.7835\n",
      "Epoch 133/150\n",
      "537/537 [==============================] - 0s 540us/step - loss: 0.4399 - acc: 0.8119 - val_loss: 0.4945 - val_acc: 0.7965\n",
      "Epoch 134/150\n",
      "537/537 [==============================] - 0s 555us/step - loss: 0.4401 - acc: 0.8231 - val_loss: 0.4947 - val_acc: 0.7922\n",
      "Epoch 135/150\n",
      "537/537 [==============================] - 0s 546us/step - loss: 0.4394 - acc: 0.8175 - val_loss: 0.4938 - val_acc: 0.7835\n",
      "Epoch 136/150\n",
      "537/537 [==============================] - 0s 519us/step - loss: 0.4382 - acc: 0.8138 - val_loss: 0.4943 - val_acc: 0.7922\n",
      "Epoch 137/150\n",
      "537/537 [==============================] - 0s 542us/step - loss: 0.4395 - acc: 0.8175 - val_loss: 0.4917 - val_acc: 0.7922\n",
      "Epoch 138/150\n",
      "537/537 [==============================] - 0s 519us/step - loss: 0.4385 - acc: 0.8194 - val_loss: 0.4946 - val_acc: 0.7879\n",
      "Epoch 139/150\n",
      "537/537 [==============================] - 0s 508us/step - loss: 0.4386 - acc: 0.8231 - val_loss: 0.5019 - val_acc: 0.7922\n",
      "Epoch 140/150\n",
      "537/537 [==============================] - 0s 502us/step - loss: 0.4388 - acc: 0.8101 - val_loss: 0.4976 - val_acc: 0.7835\n",
      "Epoch 141/150\n",
      "537/537 [==============================] - 0s 570us/step - loss: 0.4386 - acc: 0.8156 - val_loss: 0.5007 - val_acc: 0.7879\n",
      "Epoch 142/150\n",
      "537/537 [==============================] - 0s 520us/step - loss: 0.4374 - acc: 0.8231 - val_loss: 0.4953 - val_acc: 0.7835\n",
      "Epoch 143/150\n",
      "537/537 [==============================] - 0s 519us/step - loss: 0.4361 - acc: 0.8175 - val_loss: 0.4967 - val_acc: 0.7835\n",
      "Epoch 144/150\n",
      "537/537 [==============================] - 0s 523us/step - loss: 0.4349 - acc: 0.8194 - val_loss: 0.5002 - val_acc: 0.7965\n",
      "Epoch 145/150\n",
      "537/537 [==============================] - 0s 522us/step - loss: 0.4371 - acc: 0.8212 - val_loss: 0.4983 - val_acc: 0.7922\n",
      "Epoch 146/150\n",
      "537/537 [==============================] - 0s 523us/step - loss: 0.4363 - acc: 0.8101 - val_loss: 0.4993 - val_acc: 0.8052\n",
      "Epoch 147/150\n",
      "537/537 [==============================] - 0s 546us/step - loss: 0.4360 - acc: 0.8231 - val_loss: 0.4967 - val_acc: 0.7835\n",
      "Epoch 148/150\n",
      "537/537 [==============================] - 0s 571us/step - loss: 0.4343 - acc: 0.8156 - val_loss: 0.4986 - val_acc: 0.7835\n",
      "Epoch 149/150\n",
      "537/537 [==============================] - 0s 711us/step - loss: 0.4326 - acc: 0.8175 - val_loss: 0.4981 - val_acc: 0.7835\n",
      "Epoch 150/150\n",
      "537/537 [==============================] - 0s 543us/step - loss: 0.4348 - acc: 0.8119 - val_loss: 0.4985 - val_acc: 0.7922\n"
     ]
    }
   ],
   "source": [
    "from keras import regularizers\n",
    "model = keras.Sequential()\n",
    "model.add(keras.layers.Dense(10,input_dim = 8,activation = \"relu\")) \n",
    "model.add(keras.layers.Dense(8,activation = \"relu\",kernel_regularizer=regularizers.l2(0.01)))\n",
    "model.add(keras.layers.Dense(6,activation = \"relu\",kernel_regularizer=regularizers.l2(0.01)))\n",
    "model.add(keras.layers.Dense(5,activation = \"relu\",kernel_regularizer=regularizers.l2(0.01)))\n",
    "model.add(keras.layers.Dense(1,activation = \"sigmoid\"))\n",
    "\n",
    "model.compile(loss = \"binary_crossentropy\",optimizer = 'adam',metrics = ['accuracy'])\n",
    "history = model.fit(x_train,y_train,epochs = 150, batch_size = 10,validation_data=(x_test, y_test))"
   ]
  },
  {
   "cell_type": "code",
   "execution_count": 138,
   "metadata": {},
   "outputs": [
    {
     "data": {
      "text/plain": [
       "<matplotlib.legend.Legend at 0x1a4b3222b0>"
      ]
     },
     "execution_count": 138,
     "metadata": {},
     "output_type": "execute_result"
    },
    {
     "data": {
      "image/png": "[encoded data removed]",
      "text/plain": [
       "<Figure size 432x288 with 1 Axes>"
      ]
     },
     "metadata": {
      "needs_background": "light"
     },
     "output_type": "display_data"
    },
    {
     "data": {
      "image/png": "[encoded data removed]",
      "text/plain": [
       "<Figure size 432x288 with 1 Axes>"
      ]
     },
     "metadata": {
      "needs_background": "light"
     },
     "output_type": "display_data"
    }
   ],
   "source": [
    "plt.plot(history.history['acc'])\n",
    "plt.plot(history.history['val_acc'])\n",
    "plt.title('Model accuracy')\n",
    "plt.ylabel('Accuracy')\n",
    "plt.xlabel('Epoch')\n",
    "plt.legend(['Train', 'Test'], loc='upper left')\n",
    "\n",
    "plt.figure()\n",
    "plt.plot(history.history['loss'])\n",
    "plt.plot(history.history['val_loss'])\n",
    "plt.title('Model loss')\n",
    "plt.ylabel('Loss')\n",
    "plt.xlabel('Epoch')\n",
    "plt.legend(['Train', 'Test'], loc='upper left')"
   ]
  },
  {
   "cell_type": "markdown",
   "metadata": {},
   "source": [
    "Now the overfitting is solved"
   ]
  },
  {
   "cell_type": "code",
   "execution_count": 139,
   "metadata": {},
   "outputs": [
    {
     "name": "stdout",
     "output_type": "stream",
     "text": [
      "0.6511627906976745\n",
      "0.7567567567567568\n",
      "0.7922077922077922\n",
      "0.7000000000000001\n"
     ]
    }
   ],
   "source": [
    "pred = model.predict_classes(x_test)\n",
    "per = metrics.precision_score(y_test,pred)\n",
    "rec = metrics.recall_score(y_test,pred)\n",
    "acc = metrics.accuracy_score(y_test,pred)\n",
    "f1 = 2*per*rec/(per+rec)\n",
    "print(per)\n",
    "print(rec)\n",
    "print(acc)\n",
    "print(f1)"
   ]
  },
  {
   "cell_type": "code",
   "execution_count": 140,
   "metadata": {},
   "outputs": [
    {
     "name": "stdout",
     "output_type": "stream",
     "text": [
      "0.7671957671957672\n",
      "0.7474226804123711\n",
      "0.8268156424581006\n",
      "0.7571801566579635\n"
     ]
    }
   ],
   "source": [
    "pred = model.predict_classes(x_train)\n",
    "per = metrics.precision_score(y_train,pred)\n",
    "rec = metrics.recall_score(y_train,pred)\n",
    "acc = metrics.accuracy_score(y_train,pred)\n",
    "f1 = 2*per*rec/(per+rec)\n",
    "print(per)\n",
    "print(rec)\n",
    "print(acc)\n",
    "print(f1)"
   ]
  },
  {
   "cell_type": "code",
   "execution_count": 141,
   "metadata": {},
   "outputs": [
    {
     "data": {
      "image/png": "[encoded data removed]",
      "text/plain": [
       "<Figure size 432x288 with 1 Axes>"
      ]
     },
     "metadata": {
      "needs_background": "light"
     },
     "output_type": "display_data"
    }
   ],
   "source": [
    "prob_test = model.predict(x_test) \n",
    "fpr,tpr,threshold = metrics.roc_curve(y_test,prob_test[:,0])\n",
    "plt.plot(fpr,tpr)\n",
    "plt.plot([0,1],[0,1],'k--')\n",
    "plt.show()"
   ]
  },
  {
   "cell_type": "markdown",
   "metadata": {},
   "source": [
    "plot the test precision curve  and accuracy curve for decision thresholds between 0.1 to 1 with a step of 0.1"
   ]
  },
  {
   "cell_type": "code",
   "execution_count": 128,
   "metadata": {},
   "outputs": [
    {
     "data": {
      "text/plain": [
       "[<matplotlib.lines.Line2D at 0x1a4d307240>]"
      ]
     },
     "execution_count": 128,
     "metadata": {},
     "output_type": "execute_result"
    },
    {
     "data": {
      "image/png": "[encoded data removed]",
      "text/plain": [
       "<Figure size 432x288 with 1 Axes>"
      ]
     },
     "metadata": {
      "needs_background": "light"
     },
     "output_type": "display_data"
    }
   ],
   "source": [
    "thresholds = np.arange(0.1,1,0.1)\n",
    "precision_list = []\n",
    "accuracy_list = []\n",
    "for threshold in thresholds:\n",
    "    pred = prob_test[:,0]>threshold\n",
    "    precision_list.append(metrics.precision_score(y_test,pred))\n",
    "    accuracy_list.append(metrics.accuracy_score(y_test,pred))\n",
    "    \n",
    "plt.plot(thresholds,precision_list)\n",
    "plt.plot(thresholds,accuracy_list,c = 'r')"
   ]
  },
  {
   "cell_type": "markdown",
   "metadata": {},
   "source": [
    "## Random Forest\n",
    "Build a random forest with `n_estimators=100`. What is the accuracy, precision and recall and F1 score for the training and the test data? Plot the ROC curve? Is the model overfitting"
   ]
  },
  {
   "cell_type": "code",
   "execution_count": 129,
   "metadata": {},
   "outputs": [
    {
     "data": {
      "text/plain": [
       "RandomForestClassifier(bootstrap=True, class_weight=None, criterion='gini',\n",
       "                       max_depth=None, max_features='auto', max_leaf_nodes=None,\n",
       "                       min_impurity_decrease=0.0, min_impurity_split=None,\n",
       "                       min_samples_leaf=1, min_samples_split=2,\n",
       "                       min_weight_fraction_leaf=0.0, n_estimators=100,\n",
       "                       n_jobs=None, oob_score=False, random_state=None,\n",
       "                       verbose=0, warm_start=False)"
      ]
     },
     "execution_count": 129,
     "metadata": {},
     "output_type": "execute_result"
    }
   ],
   "source": [
    "from sklearn.ensemble import RandomForestClassifier\n",
    "rfc = RandomForestClassifier(n_estimators=100)\n",
    "rfc.fit(x_train, y_train)"
   ]
  },
  {
   "cell_type": "code",
   "execution_count": 100,
   "metadata": {},
   "outputs": [
    {
     "name": "stdout",
     "output_type": "stream",
     "text": [
      "0.6521739130434783\n",
      "0.6081081081081081\n",
      "0.7705627705627706\n",
      "0.6293706293706294\n"
     ]
    }
   ],
   "source": [
    "rfc_pred_test = rfc.predict(x_test)\n",
    "# rfc.score(x_test,y_test)\n",
    "per = metrics.precision_score(y_test,rfc_pred_test)\n",
    "rec = metrics.recall_score(y_test,rfc_pred_test)\n",
    "acc = metrics.accuracy_score(y_test,rfc_pred_test)\n",
    "f1 = 2*per*rec/(per+rec)\n",
    "print(per)\n",
    "print(rec)\n",
    "print(acc)\n",
    "print(f1)"
   ]
  },
  {
   "cell_type": "code",
   "execution_count": 101,
   "metadata": {},
   "outputs": [
    {
     "name": "stdout",
     "output_type": "stream",
     "text": [
      "1.0\n",
      "1.0\n",
      "1.0\n",
      "1.0\n"
     ]
    }
   ],
   "source": [
    "rfc_pred_train = rfc.predict(x_train)\n",
    "per = metrics.precision_score(y_train,rfc_pred_train)\n",
    "rec = metrics.recall_score(y_train,rfc_pred_train)\n",
    "acc = metrics.accuracy_score(y_train,rfc_pred_train)\n",
    "f1 = 2*per*rec/(per+rec)\n",
    "print(per)\n",
    "print(rec)\n",
    "print(acc)\n",
    "print(f1)"
   ]
  },
  {
   "cell_type": "code",
   "execution_count": 102,
   "metadata": {},
   "outputs": [
    {
     "data": {
      "image/png": "[encoded data removed]",
      "text/plain": [
       "<Figure size 432x288 with 1 Axes>"
      ]
     },
     "metadata": {
      "needs_background": "light"
     },
     "output_type": "display_data"
    }
   ],
   "source": [
    "prob_test = rfc.predict_proba(x_test)\n",
    "fpr,tpr,threshold = metrics.roc_curve(y_test,prob_test[:,1])\n",
    "plt.plot(fpr,tpr)\n",
    "plt.plot([0,1],[0,1],'k--')\n",
    "plt.show()"
   ]
  },
  {
   "cell_type": "markdown",
   "metadata": {},
   "source": [
    "build another model to limit the overfitting problem by using `n_estimators=1000, max_depth=8` as your random forest parameters. Is the overfitting better now?"
   ]
  },
  {
   "cell_type": "code",
   "execution_count": 105,
   "metadata": {},
   "outputs": [
    {
     "data": {
      "text/plain": [
       "RandomForestClassifier(bootstrap=True, class_weight=None, criterion='gini',\n",
       "                       max_depth=8, max_features='auto', max_leaf_nodes=None,\n",
       "                       min_impurity_decrease=0.0, min_impurity_split=None,\n",
       "                       min_samples_leaf=1, min_samples_split=2,\n",
       "                       min_weight_fraction_leaf=0.0, n_estimators=1000,\n",
       "                       n_jobs=None, oob_score=False, random_state=None,\n",
       "                       verbose=0, warm_start=False)"
      ]
     },
     "execution_count": 105,
     "metadata": {},
     "output_type": "execute_result"
    }
   ],
   "source": [
    "rfc = RandomForestClassifier(n_estimators=1000,max_depth = 8)\n",
    "rfc.fit(x_train, y_train)"
   ]
  },
  {
   "cell_type": "code",
   "execution_count": 106,
   "metadata": {},
   "outputs": [
    {
     "name": "stdout",
     "output_type": "stream",
     "text": [
      "0.647887323943662\n",
      "0.6216216216216216\n",
      "0.7705627705627706\n",
      "0.6344827586206897\n"
     ]
    }
   ],
   "source": [
    "### test dataset\n",
    "rfc_pred_test = rfc.predict(x_test)\n",
    "# rfc.score(x_test,y_test)\n",
    "per = metrics.precision_score(y_test,rfc_pred_test)\n",
    "rec = metrics.recall_score(y_test,rfc_pred_test)\n",
    "acc = metrics.accuracy_score(y_test,rfc_pred_test)\n",
    "f1 = 2*per*rec/(per+rec)\n",
    "print(per)\n",
    "print(rec)\n",
    "print(acc)\n",
    "print(f1)"
   ]
  },
  {
   "cell_type": "code",
   "execution_count": 107,
   "metadata": {},
   "outputs": [
    {
     "name": "stdout",
     "output_type": "stream",
     "text": [
      "0.9946236559139785\n",
      "0.9536082474226805\n",
      "0.9813780260707635\n",
      "0.9736842105263157\n"
     ]
    }
   ],
   "source": [
    "#### training dataset\n",
    "rfc_pred_train = rfc.predict(x_train)\n",
    "per = metrics.precision_score(y_train,rfc_pred_train)\n",
    "rec = metrics.recall_score(y_train,rfc_pred_train)\n",
    "acc = metrics.accuracy_score(y_train,rfc_pred_train)\n",
    "f1 = 2*per*rec/(per+rec)\n",
    "print(per)\n",
    "print(rec)\n",
    "print(acc)\n",
    "print(f1)"
   ]
  },
  {
   "cell_type": "code",
   "execution_count": 110,
   "metadata": {},
   "outputs": [
    {
     "data": {
      "image/png": "[encoded data removed]",
      "text/plain": [
       "<Figure size 432x288 with 1 Axes>"
      ]
     },
     "metadata": {
      "needs_background": "light"
     },
     "output_type": "display_data"
    }
   ],
   "source": [
    "prob_test = rfc.predict_proba(x_test)\n",
    "fpr,tpr,threshold = metrics.roc_curve(y_test,prob_test[:,1])\n",
    "plt.plot(fpr,tpr)\n",
    "plt.plot([0,1],[0,1],'k--')\n",
    "plt.show()"
   ]
  },
  {
   "cell_type": "code",
   "execution_count": 111,
   "metadata": {},
   "outputs": [],
   "source": [
    "###yes the overfitting is better"
   ]
  },
  {
   "cell_type": "markdown",
   "metadata": {},
   "source": [
    "plot the test precision curve  and accuracy curve for decision thresholds between 0.1 to 1 with a step of 0.1"
   ]
  },
  {
   "cell_type": "code",
   "execution_count": 112,
   "metadata": {},
   "outputs": [
    {
     "name": "stderr",
     "output_type": "stream",
     "text": [
      "/anaconda3/lib/python3.6/site-packages/sklearn/metrics/classification.py:1437: UndefinedMetricWarning: Precision is ill-defined and being set to 0.0 due to no predicted samples.\n",
      "  'precision', 'predicted', average, warn_for)\n"
     ]
    },
    {
     "data": {
      "text/plain": [
       "[<matplotlib.lines.Line2D at 0x1a4a655128>]"
      ]
     },
     "execution_count": 112,
     "metadata": {},
     "output_type": "execute_result"
    },
    {
     "data": {
      "image/png": "[encoded data removed]",
      "text/plain": [
       "<Figure size 432x288 with 1 Axes>"
      ]
     },
     "metadata": {
      "needs_background": "light"
     },
     "output_type": "display_data"
    }
   ],
   "source": [
    "prob_test = rfc.predict_proba(x_test)\n",
    "thresholds = np.arange(0.1,1,0.1)\n",
    "precision_list = []\n",
    "accuracy_list = []\n",
    "for threshold in thresholds:\n",
    "    pred = prob_test[:,1]>threshold\n",
    "    precision_list.append(metrics.precision_score(y_test,pred))\n",
    "    accuracy_list.append(metrics.accuracy_score(y_test,pred))\n",
    "    \n",
    "plt.plot(thresholds,precision_list)\n",
    "plt.plot(thresholds,accuracy_list,c = 'r')"
   ]
  },
  {
   "cell_type": "markdown",
   "metadata": {},
   "source": [
    "# Finally: \n",
    "- Write a few lines about each of the three models and if there is one superior model and why do you think so?"
   ]
  },
  {
   "cell_type": "markdown",
   "metadata": {},
   "source": [
    "logistic regression: LR is easy to control, we can use it to do regression and classification as a baseline model.\n",
    "DNN: it's good to solve the nonlinear classification and complicated linear problems, but it's hard to control the layers and nerons,\n",
    "we need to try more, and it is time consuming.\n",
    "Random forest: it;s very good to do the regression and classification problems, we also need to find the best parameters.\n",
    "I don't think there is a superior model,for every dataset we need to try different models, different parameters in each model, then find the\n",
    "best model for that dataset."
   ]
  },
  {
   "cell_type": "markdown",
   "metadata": {},
   "source": [
    "- **Also thanks for a great quarter :) .. I will miss you and wish you all the best**\n",
    "\n",
    "- **Do not forget to submit the survey about the class. Be specific about your problems. Class settings, instructor, material, .. etc. Your voice makes a difference**"
   ]
  },
  {
   "cell_type": "markdown",
   "metadata": {},
   "source": [
    "![](machine_learning.png)"
   ]
  },
  {
   "cell_type": "code",
   "execution_count": null,
   "metadata": {},
   "outputs": [],
   "source": []
  }
 ],
 "metadata": {
  "kernelspec": {
   "display_name": "Python 3",
   "language": "python",
   "name": "python3"
  },
  "language_info": {
   "codemirror_mode": {
    "name": "ipython",
    "version": 3
   },
   "file_extension": ".py",
   "mimetype": "text/x-python",
   "name": "python",
   "nbconvert_exporter": "python",
   "pygments_lexer": "ipython3",
   "version": "3.6.8"
  }
 },
 "nbformat": 4,
 "nbformat_minor": 2
}
