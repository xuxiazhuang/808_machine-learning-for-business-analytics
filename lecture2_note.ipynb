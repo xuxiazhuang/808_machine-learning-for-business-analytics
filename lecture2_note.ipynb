{
 "cells": [
  {
   "cell_type": "code",
   "execution_count": 25,
   "metadata": {},
   "outputs": [
    {
     "name": "stdout",
     "output_type": "stream",
     "text": [
      "(768, 9)\n"
     ]
    }
   ],
   "source": [
    "import pandas as pd\n",
    "df = pd.read_csv(\"diabetes.csv\")\n",
    "print(df.shape)"
   ]
  },
  {
   "cell_type": "code",
   "execution_count": 26,
   "metadata": {},
   "outputs": [
    {
     "data": {
      "text/html": [
       "<div>\n",
       "<style scoped>\n",
       "    .dataframe tbody tr th:only-of-type {\n",
       "        vertical-align: middle;\n",
       "    }\n",
       "\n",
       "    .dataframe tbody tr th {\n",
       "        vertical-align: top;\n",
       "    }\n",
       "\n",
       "    .dataframe thead th {\n",
       "        text-align: right;\n",
       "    }\n",
       "</style>\n",
       "<table border=\"1\" class=\"dataframe\">\n",
       "  <thead>\n",
       "    <tr style=\"text-align: right;\">\n",
       "      <th></th>\n",
       "      <th>Pregnancies</th>\n",
       "      <th>Glucose</th>\n",
       "      <th>BloodPressure</th>\n",
       "      <th>SkinThickness</th>\n",
       "      <th>Insulin</th>\n",
       "      <th>BMI</th>\n",
       "      <th>DiabetesPedigreeFunction</th>\n",
       "      <th>Age</th>\n",
       "      <th>Outcome</th>\n",
       "    </tr>\n",
       "  </thead>\n",
       "  <tbody>\n",
       "    <tr>\n",
       "      <th>0</th>\n",
       "      <td>6</td>\n",
       "      <td>148</td>\n",
       "      <td>72</td>\n",
       "      <td>35</td>\n",
       "      <td>0</td>\n",
       "      <td>33.6</td>\n",
       "      <td>0.627</td>\n",
       "      <td>50</td>\n",
       "      <td>1</td>\n",
       "    </tr>\n",
       "    <tr>\n",
       "      <th>1</th>\n",
       "      <td>1</td>\n",
       "      <td>85</td>\n",
       "      <td>66</td>\n",
       "      <td>29</td>\n",
       "      <td>0</td>\n",
       "      <td>26.6</td>\n",
       "      <td>0.351</td>\n",
       "      <td>31</td>\n",
       "      <td>0</td>\n",
       "    </tr>\n",
       "    <tr>\n",
       "      <th>2</th>\n",
       "      <td>8</td>\n",
       "      <td>183</td>\n",
       "      <td>64</td>\n",
       "      <td>0</td>\n",
       "      <td>0</td>\n",
       "      <td>23.3</td>\n",
       "      <td>0.672</td>\n",
       "      <td>32</td>\n",
       "      <td>1</td>\n",
       "    </tr>\n",
       "    <tr>\n",
       "      <th>3</th>\n",
       "      <td>1</td>\n",
       "      <td>89</td>\n",
       "      <td>66</td>\n",
       "      <td>23</td>\n",
       "      <td>94</td>\n",
       "      <td>28.1</td>\n",
       "      <td>0.167</td>\n",
       "      <td>21</td>\n",
       "      <td>0</td>\n",
       "    </tr>\n",
       "    <tr>\n",
       "      <th>4</th>\n",
       "      <td>0</td>\n",
       "      <td>137</td>\n",
       "      <td>40</td>\n",
       "      <td>35</td>\n",
       "      <td>168</td>\n",
       "      <td>43.1</td>\n",
       "      <td>2.288</td>\n",
       "      <td>33</td>\n",
       "      <td>1</td>\n",
       "    </tr>\n",
       "  </tbody>\n",
       "</table>\n",
       "</div>"
      ],
      "text/plain": [
       "   Pregnancies  Glucose  BloodPressure  SkinThickness  Insulin   BMI  \\\n",
       "0            6      148             72             35        0  33.6   \n",
       "1            1       85             66             29        0  26.6   \n",
       "2            8      183             64              0        0  23.3   \n",
       "3            1       89             66             23       94  28.1   \n",
       "4            0      137             40             35      168  43.1   \n",
       "\n",
       "   DiabetesPedigreeFunction  Age  Outcome  \n",
       "0                     0.627   50        1  \n",
       "1                     0.351   31        0  \n",
       "2                     0.672   32        1  \n",
       "3                     0.167   21        0  \n",
       "4                     2.288   33        1  "
      ]
     },
     "execution_count": 26,
     "metadata": {},
     "output_type": "execute_result"
    }
   ],
   "source": [
    "df.head(5)"
   ]
  },
  {
   "cell_type": "code",
   "execution_count": 27,
   "metadata": {},
   "outputs": [
    {
     "data": {
      "text/plain": [
       "Pregnancies                 0\n",
       "Glucose                     0\n",
       "BloodPressure               0\n",
       "SkinThickness               0\n",
       "Insulin                     0\n",
       "BMI                         0\n",
       "DiabetesPedigreeFunction    0\n",
       "Age                         0\n",
       "Outcome                     0\n",
       "dtype: int64"
      ]
     },
     "execution_count": 27,
     "metadata": {},
     "output_type": "execute_result"
    }
   ],
   "source": [
    "df.isnull().sum()"
   ]
  },
  {
   "cell_type": "code",
   "execution_count": 28,
   "metadata": {},
   "outputs": [
    {
     "data": {
      "text/html": [
       "<div>\n",
       "<style scoped>\n",
       "    .dataframe tbody tr th:only-of-type {\n",
       "        vertical-align: middle;\n",
       "    }\n",
       "\n",
       "    .dataframe tbody tr th {\n",
       "        vertical-align: top;\n",
       "    }\n",
       "\n",
       "    .dataframe thead th {\n",
       "        text-align: right;\n",
       "    }\n",
       "</style>\n",
       "<table border=\"1\" class=\"dataframe\">\n",
       "  <thead>\n",
       "    <tr style=\"text-align: right;\">\n",
       "      <th></th>\n",
       "      <th>Pregnancies</th>\n",
       "      <th>Glucose</th>\n",
       "      <th>BloodPressure</th>\n",
       "      <th>SkinThickness</th>\n",
       "      <th>Insulin</th>\n",
       "      <th>BMI</th>\n",
       "      <th>DiabetesPedigreeFunction</th>\n",
       "      <th>Age</th>\n",
       "    </tr>\n",
       "    <tr>\n",
       "      <th>Outcome</th>\n",
       "      <th></th>\n",
       "      <th></th>\n",
       "      <th></th>\n",
       "      <th></th>\n",
       "      <th></th>\n",
       "      <th></th>\n",
       "      <th></th>\n",
       "      <th></th>\n",
       "    </tr>\n",
       "  </thead>\n",
       "  <tbody>\n",
       "    <tr>\n",
       "      <th>0</th>\n",
       "      <td>500</td>\n",
       "      <td>500</td>\n",
       "      <td>500</td>\n",
       "      <td>500</td>\n",
       "      <td>500</td>\n",
       "      <td>500</td>\n",
       "      <td>500</td>\n",
       "      <td>500</td>\n",
       "    </tr>\n",
       "    <tr>\n",
       "      <th>1</th>\n",
       "      <td>268</td>\n",
       "      <td>268</td>\n",
       "      <td>268</td>\n",
       "      <td>268</td>\n",
       "      <td>268</td>\n",
       "      <td>268</td>\n",
       "      <td>268</td>\n",
       "      <td>268</td>\n",
       "    </tr>\n",
       "  </tbody>\n",
       "</table>\n",
       "</div>"
      ],
      "text/plain": [
       "         Pregnancies  Glucose  BloodPressure  SkinThickness  Insulin  BMI  \\\n",
       "Outcome                                                                     \n",
       "0                500      500            500            500      500  500   \n",
       "1                268      268            268            268      268  268   \n",
       "\n",
       "         DiabetesPedigreeFunction  Age  \n",
       "Outcome                                 \n",
       "0                             500  500  \n",
       "1                             268  268  "
      ]
     },
     "execution_count": 28,
     "metadata": {},
     "output_type": "execute_result"
    }
   ],
   "source": [
    "df.groupby('Outcome').count()"
   ]
  },
  {
   "cell_type": "code",
   "execution_count": 29,
   "metadata": {},
   "outputs": [
    {
     "name": "stdout",
     "output_type": "stream",
     "text": [
      "(614, 8)\n",
      "(154, 8)\n"
     ]
    }
   ],
   "source": [
    "####  make model\n",
    "## 1 step split the data\n",
    "from sklearn.model_selection import train_test_split\n",
    "from sklearn.linear_model import LogisticRegression\n",
    "# x = df.loc[:,df.columns != 'Outcome'] # X = df.drop('Outcome') # x = df.loc[:,0:8]\n",
    "x = df[['Pregnancies','Glucose','BloodPressure','SkinThickness','Insulin','BMI','DiabetesPedigreeFunction','Age']] ###how to use iloc\n",
    "y = df.Outcome\n",
    "x_train,x_test,y_train,y_test=train_test_split(x,y,test_size=0.2)\n",
    "print(x_train.shape)\n",
    "print(x_test.shape)"
   ]
  },
  {
   "cell_type": "code",
   "execution_count": 30,
   "metadata": {},
   "outputs": [
    {
     "data": {
      "text/plain": [
       "LogisticRegression(C=1.0, class_weight=None, dual=False, fit_intercept=True,\n",
       "          intercept_scaling=1, max_iter=100, multi_class='ovr', n_jobs=1,\n",
       "          penalty='l2', random_state=None, solver='liblinear', tol=0.0001,\n",
       "          verbose=0, warm_start=False)"
      ]
     },
     "execution_count": 30,
     "metadata": {},
     "output_type": "execute_result"
    }
   ],
   "source": [
    "mod=LogisticRegression()\n",
    "mod.fit(x_train,y_train)"
   ]
  },
  {
   "cell_type": "code",
   "execution_count": 31,
   "metadata": {},
   "outputs": [
    {
     "data": {
      "text/plain": [
       "0.7736156351791531"
      ]
     },
     "execution_count": 31,
     "metadata": {},
     "output_type": "execute_result"
    }
   ],
   "source": [
    "### score of training data\n",
    "score = mod.score(x_train,y_train)\n",
    "score"
   ]
  },
  {
   "cell_type": "code",
   "execution_count": 32,
   "metadata": {},
   "outputs": [
    {
     "data": {
      "text/plain": [
       "0.7662337662337663"
      ]
     },
     "execution_count": 32,
     "metadata": {},
     "output_type": "execute_result"
    }
   ],
   "source": [
    "### score of testing data\n",
    "score = mod.score(x_test,y_test)\n",
    "score"
   ]
  },
  {
   "cell_type": "code",
   "execution_count": 33,
   "metadata": {},
   "outputs": [
    {
     "data": {
      "text/plain": [
       "array([[ 1.38846062e-01,  2.82378517e-02, -1.67440700e-02,\n",
       "        -5.09791340e-03, -3.73000958e-04,  4.91469020e-02,\n",
       "         6.30798603e-01, -3.97059151e-03]])"
      ]
     },
     "execution_count": 33,
     "metadata": {},
     "output_type": "execute_result"
    }
   ],
   "source": [
    "mod.coef_"
   ]
  },
  {
   "cell_type": "code",
   "execution_count": 34,
   "metadata": {},
   "outputs": [
    {
     "data": {
      "text/plain": [
       "<BarContainer object of 8 artists>"
      ]
     },
     "execution_count": 34,
     "metadata": {},
     "output_type": "execute_result"
    },
    {
     "data": {
      "image/png": "[encoded data removed]",
      "text/plain": [
       "<Figure size 1080x504 with 1 Axes>"
      ]
     },
     "metadata": {
      "needs_background": "light"
     },
     "output_type": "display_data"
    }
   ],
   "source": [
    "import matplotlib.pyplot as plt\n",
    "plt.figure(figsize = [15,7])\n",
    "plt.bar(list(df.columns[df.columns != 'Outcome']),mod.coef_[0])"
   ]
  },
  {
   "cell_type": "code",
   "execution_count": 52,
   "metadata": {},
   "outputs": [
    {
     "data": {
      "text/plain": [
       "LogisticRegression(C=1.0, class_weight=None, dual=False, fit_intercept=True,\n",
       "          intercept_scaling=1, max_iter=100, multi_class='ovr', n_jobs=1,\n",
       "          penalty='l2', random_state=None, solver='liblinear', tol=0.0001,\n",
       "          verbose=0, warm_start=False)"
      ]
     },
     "execution_count": 52,
     "metadata": {},
     "output_type": "execute_result"
    }
   ],
   "source": [
    "#### scaling the training data \n",
    "### scaling can in increase the accuracy in some sense , because reduce the biase\n",
    "### 不用所有x data 来fit scale 因为不能把test data提前给train了后面还需要test data 来test model\n",
    "from sklearn.preprocessing import StandardScaler\n",
    "scaler = StandardScaler().fit(x_train)\n",
    "x_train_scaled=scaler.transform(x_train)\n",
    "mod2=LogisticRegression()\n",
    "mod2.fit(x_train_scaled,y_train)"
   ]
  },
  {
   "cell_type": "code",
   "execution_count": 53,
   "metadata": {},
   "outputs": [
    {
     "data": {
      "text/plain": [
       "array([[ 0.48441128,  1.10245277, -0.22200015, -0.0662116 , -0.1142577 ,\n",
       "         0.61108638,  0.30853685,  0.04279981]])"
      ]
     },
     "execution_count": 53,
     "metadata": {},
     "output_type": "execute_result"
    }
   ],
   "source": [
    "mod2.coef_"
   ]
  },
  {
   "cell_type": "code",
   "execution_count": 54,
   "metadata": {},
   "outputs": [
    {
     "data": {
      "text/plain": [
       "<BarContainer object of 8 artists>"
      ]
     },
     "execution_count": 54,
     "metadata": {},
     "output_type": "execute_result"
    },
    {
     "data": {
      "image/png": "[encoded data removed]",
      "text/plain": [
       "<Figure size 1080x504 with 1 Axes>"
      ]
     },
     "metadata": {
      "needs_background": "light"
     },
     "output_type": "display_data"
    }
   ],
   "source": [
    "import matplotlib.pyplot as plt\n",
    "plt.figure(figsize = [15,7])\n",
    "plt.bar(list(df.columns[df.columns != 'Outcome']),mod2.coef_[0])"
   ]
  },
  {
   "cell_type": "code",
   "execution_count": 55,
   "metadata": {},
   "outputs": [
    {
     "data": {
      "text/plain": [
       "0.7866449511400652"
      ]
     },
     "execution_count": 55,
     "metadata": {},
     "output_type": "execute_result"
    }
   ],
   "source": [
    "score1 = mod2.score(x_train_scaled,y_train)\n",
    "score1"
   ]
  },
  {
   "cell_type": "code",
   "execution_count": 56,
   "metadata": {},
   "outputs": [],
   "source": [
    "x_test_scaled = scaler.transform(x_test)"
   ]
  },
  {
   "cell_type": "code",
   "execution_count": 57,
   "metadata": {},
   "outputs": [
    {
     "data": {
      "text/plain": [
       "0.7727272727272727"
      ]
     },
     "execution_count": 57,
     "metadata": {},
     "output_type": "execute_result"
    }
   ],
   "source": [
    "score2 = mod2.score(x_test_scaled,y_test)\n",
    "score2"
   ]
  },
  {
   "cell_type": "code",
   "execution_count": 58,
   "metadata": {},
   "outputs": [
    {
     "data": {
      "text/plain": [
       "array([0, 0, 0, 0, 0, 0, 0, 0, 0, 0, 0, 0, 0, 0, 0, 0, 0, 0, 0, 0, 0, 0,\n",
       "       0, 0, 0, 0, 0, 0, 0, 0, 0, 0, 0, 0, 0, 0, 0, 0, 0, 0, 0, 0, 0, 0,\n",
       "       0, 0, 0, 0, 0, 0, 0, 0, 0, 0, 0, 0, 0, 0, 0, 0, 0, 0, 0, 0, 0, 0,\n",
       "       0, 0, 0, 0, 0, 0, 0, 0, 0, 0, 0, 0, 0, 0, 0, 0, 0, 0, 0, 0, 0, 0,\n",
       "       0, 0, 0, 0, 0, 0, 0, 0, 0, 0, 0, 0, 0, 0, 0, 0, 0, 0, 0, 0, 0, 0,\n",
       "       0, 0, 0, 0, 0, 0, 0, 0, 0, 0, 0, 0, 0, 0, 0, 0, 0, 0, 0, 0, 0, 0,\n",
       "       0, 0, 0, 0, 0, 0, 0, 0, 0, 0, 0, 0, 0, 0, 0, 0, 0, 0, 0, 0, 0, 0])"
      ]
     },
     "execution_count": 58,
     "metadata": {},
     "output_type": "execute_result"
    }
   ],
   "source": [
    "###\n",
    "mod.predict(x_test_scaled)"
   ]
  },
  {
   "cell_type": "code",
   "execution_count": 59,
   "metadata": {},
   "outputs": [
    {
     "data": {
      "text/plain": [
       "array([[0.99513342, 0.00486658],\n",
       "       [0.97843786, 0.02156214],\n",
       "       [0.99496766, 0.00503234],\n",
       "       [0.9952267 , 0.0047733 ],\n",
       "       [0.98886748, 0.01113252],\n",
       "       [0.99299276, 0.00700724],\n",
       "       [0.98717292, 0.01282708],\n",
       "       [0.9945832 , 0.0054168 ],\n",
       "       [0.9770304 , 0.0229696 ],\n",
       "       [0.99618726, 0.00381274],\n",
       "       [0.99713591, 0.00286409],\n",
       "       [0.99610348, 0.00389652],\n",
       "       [0.99039017, 0.00960983],\n",
       "       [0.99676209, 0.00323791],\n",
       "       [0.99481209, 0.00518791],\n",
       "       [0.99619381, 0.00380619],\n",
       "       [0.99452519, 0.00547481],\n",
       "       [0.9907984 , 0.0092016 ],\n",
       "       [0.99039857, 0.00960143],\n",
       "       [0.99261909, 0.00738091],\n",
       "       [0.99677103, 0.00322897],\n",
       "       [0.98843923, 0.01156077],\n",
       "       [0.99625511, 0.00374489],\n",
       "       [0.99742623, 0.00257377],\n",
       "       [0.99074695, 0.00925305],\n",
       "       [0.99533527, 0.00466473],\n",
       "       [0.99725482, 0.00274518],\n",
       "       [0.99560013, 0.00439987],\n",
       "       [0.99610288, 0.00389712],\n",
       "       [0.99162811, 0.00837189],\n",
       "       [0.97848737, 0.02151263],\n",
       "       [0.9962166 , 0.0037834 ],\n",
       "       [0.99544195, 0.00455805],\n",
       "       [0.99602256, 0.00397744],\n",
       "       [0.99470848, 0.00529152],\n",
       "       [0.99367779, 0.00632221],\n",
       "       [0.99607118, 0.00392882],\n",
       "       [0.99705272, 0.00294728],\n",
       "       [0.99516623, 0.00483377],\n",
       "       [0.99441973, 0.00558027],\n",
       "       [0.99057877, 0.00942123],\n",
       "       [0.99576021, 0.00423979],\n",
       "       [0.99657253, 0.00342747],\n",
       "       [0.99415934, 0.00584066],\n",
       "       [0.99526223, 0.00473777],\n",
       "       [0.99591574, 0.00408426],\n",
       "       [0.99571935, 0.00428065],\n",
       "       [0.99679092, 0.00320908],\n",
       "       [0.99196755, 0.00803245],\n",
       "       [0.99625361, 0.00374639],\n",
       "       [0.99760726, 0.00239274],\n",
       "       [0.99715341, 0.00284659],\n",
       "       [0.99010668, 0.00989332],\n",
       "       [0.99295209, 0.00704791],\n",
       "       [0.99686824, 0.00313176],\n",
       "       [0.99547893, 0.00452107],\n",
       "       [0.99674327, 0.00325673],\n",
       "       [0.99588139, 0.00411861],\n",
       "       [0.99635109, 0.00364891],\n",
       "       [0.99518739, 0.00481261],\n",
       "       [0.99513019, 0.00486981],\n",
       "       [0.99345834, 0.00654166],\n",
       "       [0.99677803, 0.00322197],\n",
       "       [0.99649079, 0.00350921],\n",
       "       [0.98194827, 0.01805173],\n",
       "       [0.99672704, 0.00327296],\n",
       "       [0.99399728, 0.00600272],\n",
       "       [0.99782909, 0.00217091],\n",
       "       [0.98220106, 0.01779894],\n",
       "       [0.9933201 , 0.0066799 ],\n",
       "       [0.9969739 , 0.0030261 ],\n",
       "       [0.99559249, 0.00440751],\n",
       "       [0.98620077, 0.01379923],\n",
       "       [0.99113433, 0.00886567],\n",
       "       [0.99103043, 0.00896957],\n",
       "       [0.99619598, 0.00380402],\n",
       "       [0.99742985, 0.00257015],\n",
       "       [0.99538153, 0.00461847],\n",
       "       [0.99252648, 0.00747352],\n",
       "       [0.98673798, 0.01326202],\n",
       "       [0.99600299, 0.00399701],\n",
       "       [0.99073188, 0.00926812],\n",
       "       [0.99325711, 0.00674289],\n",
       "       [0.99450323, 0.00549677],\n",
       "       [0.9942395 , 0.0057605 ],\n",
       "       [0.98934692, 0.01065308],\n",
       "       [0.99728632, 0.00271368],\n",
       "       [0.99356972, 0.00643028],\n",
       "       [0.99577317, 0.00422683],\n",
       "       [0.9967387 , 0.0032613 ],\n",
       "       [0.99223575, 0.00776425],\n",
       "       [0.9962284 , 0.0037716 ],\n",
       "       [0.99094506, 0.00905494],\n",
       "       [0.97511102, 0.02488898],\n",
       "       [0.99561343, 0.00438657],\n",
       "       [0.99541695, 0.00458305],\n",
       "       [0.99535448, 0.00464552],\n",
       "       [0.99590323, 0.00409677],\n",
       "       [0.99701859, 0.00298141],\n",
       "       [0.99515145, 0.00484855],\n",
       "       [0.99491808, 0.00508192],\n",
       "       [0.99277309, 0.00722691],\n",
       "       [0.99738681, 0.00261319],\n",
       "       [0.97033717, 0.02966283],\n",
       "       [0.99563114, 0.00436886],\n",
       "       [0.99548982, 0.00451018],\n",
       "       [0.99657879, 0.00342121],\n",
       "       [0.98087788, 0.01912212],\n",
       "       [0.99704947, 0.00295053],\n",
       "       [0.99622481, 0.00377519],\n",
       "       [0.9848033 , 0.0151967 ],\n",
       "       [0.99266589, 0.00733411],\n",
       "       [0.99691551, 0.00308449],\n",
       "       [0.99528576, 0.00471424],\n",
       "       [0.99721431, 0.00278569],\n",
       "       [0.99136467, 0.00863533],\n",
       "       [0.99305791, 0.00694209],\n",
       "       [0.99581332, 0.00418668],\n",
       "       [0.99736719, 0.00263281],\n",
       "       [0.99634342, 0.00365658],\n",
       "       [0.99511139, 0.00488861],\n",
       "       [0.99481737, 0.00518263],\n",
       "       [0.9876709 , 0.0123291 ],\n",
       "       [0.99084746, 0.00915254],\n",
       "       [0.99690846, 0.00309154],\n",
       "       [0.99232174, 0.00767826],\n",
       "       [0.99498553, 0.00501447],\n",
       "       [0.99335701, 0.00664299],\n",
       "       [0.99635926, 0.00364074],\n",
       "       [0.99648672, 0.00351328],\n",
       "       [0.99630356, 0.00369644],\n",
       "       [0.99669787, 0.00330213],\n",
       "       [0.99284146, 0.00715854],\n",
       "       [0.99732295, 0.00267705],\n",
       "       [0.98880452, 0.01119548],\n",
       "       [0.99065829, 0.00934171],\n",
       "       [0.99694648, 0.00305352],\n",
       "       [0.99336438, 0.00663562],\n",
       "       [0.99666888, 0.00333112],\n",
       "       [0.99641361, 0.00358639],\n",
       "       [0.98524552, 0.01475448],\n",
       "       [0.99686597, 0.00313403],\n",
       "       [0.96206434, 0.03793566],\n",
       "       [0.9952028 , 0.0047972 ],\n",
       "       [0.99563941, 0.00436059],\n",
       "       [0.99666262, 0.00333738],\n",
       "       [0.99701587, 0.00298413],\n",
       "       [0.99582779, 0.00417221],\n",
       "       [0.98965826, 0.01034174],\n",
       "       [0.99744823, 0.00255177],\n",
       "       [0.99694571, 0.00305429],\n",
       "       [0.99637502, 0.00362498],\n",
       "       [0.98724816, 0.01275184],\n",
       "       [0.99601559, 0.00398441]])"
      ]
     },
     "execution_count": 59,
     "metadata": {},
     "output_type": "execute_result"
    }
   ],
   "source": [
    "mod.predict_proba(x_test_scaled) #### the probability you get 0 and 1\n",
    "### with probability we can pick some certain points"
   ]
  },
  {
   "cell_type": "code",
   "execution_count": null,
   "metadata": {},
   "outputs": [],
   "source": []
  },
  {
   "cell_type": "code",
   "execution_count": null,
   "metadata": {},
   "outputs": [],
   "source": []
  },
  {
   "cell_type": "code",
   "execution_count": null,
   "metadata": {},
   "outputs": [],
   "source": []
  }
 ],
 "metadata": {
  "kernelspec": {
   "display_name": "Python 3",
   "language": "python",
   "name": "python3"
  },
  "language_info": {
   "codemirror_mode": {
    "name": "ipython",
    "version": 3
   },
   "file_extension": ".py",
   "mimetype": "text/x-python",
   "name": "python",
   "nbconvert_exporter": "python",
   "pygments_lexer": "ipython3",
   "version": "3.6.8"
  }
 },
 "nbformat": 4,
 "nbformat_minor": 2
}
