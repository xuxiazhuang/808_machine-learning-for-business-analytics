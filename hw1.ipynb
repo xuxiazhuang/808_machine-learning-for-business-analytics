{
 "cells": [
  {
   "cell_type": "markdown",
   "metadata": {},
   "source": [
    "# HW1\n",
    "This homework consists of two parts. The first is a refresher for python, data loading and manipulation. The second part discusses linear regression"
   ]
  },
  {
   "cell_type": "markdown",
   "metadata": {},
   "source": [
    "Some info on the dataset:\n",
    "\n",
    "The data was extracted from the 1974 Motor Trend US magazine, and comprises fuel consumption and 10 aspects of automobile design and performance for 32 automobiles (1973–74 models).\n",
    "\n",
    "[, 0]\t Model\n",
    "\n",
    "[, 1]\tmpg\tMiles/(US) gallon\n",
    "\n",
    "[, 2]\tcyl\tNumber of cylinders\n",
    "\n",
    "[, 3]\tdisp\tDisplacement (cu.in.)\n",
    "\n",
    "[, 4]\thp\tGross horsepower\n",
    "\n",
    "[, 5]\tdrat\tRear axle ratio\n",
    "\n",
    "[, 6]\twt\tWeight (1000 lbs)\n",
    "\n",
    "[, 7]\tqsec\t1/4 mile time\n",
    "\n",
    "[, 8]\tvs\tEngine (0 = V-shaped, 1 = straight)\n",
    "\n",
    "[, 9]\tam\tTransmission (0 = automatic, 1 = manual)\n",
    "\n",
    "[,10]\tgear\tNumber of forward gears\n",
    "\n",
    "[,11]\tcarb\tNumber of carburetors"
   ]
  },
  {
   "cell_type": "markdown",
   "metadata": {},
   "source": [
    "## 1- Python Refresher\n",
    "Load the dataset `mpg_data` using pandas and display the first five rows and the last two rows"
   ]
  },
  {
   "cell_type": "code",
   "execution_count": 1,
   "metadata": {},
   "outputs": [
    {
     "data": {
      "text/html": [
       "<div>\n",
       "<style scoped>\n",
       "    .dataframe tbody tr th:only-of-type {\n",
       "        vertical-align: middle;\n",
       "    }\n",
       "\n",
       "    .dataframe tbody tr th {\n",
       "        vertical-align: top;\n",
       "    }\n",
       "\n",
       "    .dataframe thead th {\n",
       "        text-align: right;\n",
       "    }\n",
       "</style>\n",
       "<table border=\"1\" class=\"dataframe\">\n",
       "  <thead>\n",
       "    <tr style=\"text-align: right;\">\n",
       "      <th></th>\n",
       "      <th>model</th>\n",
       "      <th>mpg</th>\n",
       "      <th>cyl</th>\n",
       "      <th>disp</th>\n",
       "      <th>hp</th>\n",
       "      <th>drat</th>\n",
       "      <th>wt</th>\n",
       "      <th>qsec</th>\n",
       "      <th>vs</th>\n",
       "      <th>am</th>\n",
       "      <th>gear</th>\n",
       "      <th>carb</th>\n",
       "    </tr>\n",
       "  </thead>\n",
       "  <tbody>\n",
       "    <tr>\n",
       "      <th>0</th>\n",
       "      <td>Mazda RX4</td>\n",
       "      <td>21.0</td>\n",
       "      <td>6</td>\n",
       "      <td>160.0</td>\n",
       "      <td>110</td>\n",
       "      <td>3.90</td>\n",
       "      <td>2.620</td>\n",
       "      <td>16.46</td>\n",
       "      <td>0</td>\n",
       "      <td>1</td>\n",
       "      <td>4</td>\n",
       "      <td>4</td>\n",
       "    </tr>\n",
       "    <tr>\n",
       "      <th>1</th>\n",
       "      <td>Mazda RX4 Wag</td>\n",
       "      <td>21.0</td>\n",
       "      <td>6</td>\n",
       "      <td>160.0</td>\n",
       "      <td>110</td>\n",
       "      <td>3.90</td>\n",
       "      <td>2.875</td>\n",
       "      <td>17.02</td>\n",
       "      <td>0</td>\n",
       "      <td>1</td>\n",
       "      <td>4</td>\n",
       "      <td>4</td>\n",
       "    </tr>\n",
       "    <tr>\n",
       "      <th>2</th>\n",
       "      <td>Datsun 710</td>\n",
       "      <td>22.8</td>\n",
       "      <td>4</td>\n",
       "      <td>108.0</td>\n",
       "      <td>93</td>\n",
       "      <td>3.85</td>\n",
       "      <td>2.320</td>\n",
       "      <td>18.61</td>\n",
       "      <td>1</td>\n",
       "      <td>1</td>\n",
       "      <td>4</td>\n",
       "      <td>1</td>\n",
       "    </tr>\n",
       "    <tr>\n",
       "      <th>3</th>\n",
       "      <td>Hornet 4 Drive</td>\n",
       "      <td>21.4</td>\n",
       "      <td>6</td>\n",
       "      <td>258.0</td>\n",
       "      <td>110</td>\n",
       "      <td>3.08</td>\n",
       "      <td>3.215</td>\n",
       "      <td>19.44</td>\n",
       "      <td>1</td>\n",
       "      <td>0</td>\n",
       "      <td>3</td>\n",
       "      <td>1</td>\n",
       "    </tr>\n",
       "    <tr>\n",
       "      <th>4</th>\n",
       "      <td>Hornet Sportabout</td>\n",
       "      <td>18.7</td>\n",
       "      <td>8</td>\n",
       "      <td>360.0</td>\n",
       "      <td>175</td>\n",
       "      <td>3.15</td>\n",
       "      <td>3.440</td>\n",
       "      <td>17.02</td>\n",
       "      <td>0</td>\n",
       "      <td>0</td>\n",
       "      <td>3</td>\n",
       "      <td>2</td>\n",
       "    </tr>\n",
       "  </tbody>\n",
       "</table>\n",
       "</div>"
      ],
      "text/plain": [
       "               model   mpg  cyl   disp   hp  drat     wt   qsec  vs  am  gear  \\\n",
       "0          Mazda RX4  21.0    6  160.0  110  3.90  2.620  16.46   0   1     4   \n",
       "1      Mazda RX4 Wag  21.0    6  160.0  110  3.90  2.875  17.02   0   1     4   \n",
       "2         Datsun 710  22.8    4  108.0   93  3.85  2.320  18.61   1   1     4   \n",
       "3     Hornet 4 Drive  21.4    6  258.0  110  3.08  3.215  19.44   1   0     3   \n",
       "4  Hornet Sportabout  18.7    8  360.0  175  3.15  3.440  17.02   0   0     3   \n",
       "\n",
       "   carb  \n",
       "0     4  \n",
       "1     4  \n",
       "2     1  \n",
       "3     1  \n",
       "4     2  "
      ]
     },
     "execution_count": 1,
     "metadata": {},
     "output_type": "execute_result"
    }
   ],
   "source": [
    "# Solve Here\n",
    "import pandas as pd\n",
    "import numpy as np\n",
    "df = pd.read_csv(\"mpg_data.csv\")\n",
    "df.head(5)"
   ]
  },
  {
   "cell_type": "code",
   "execution_count": 2,
   "metadata": {},
   "outputs": [
    {
     "data": {
      "text/plain": [
       "(32, 12)"
      ]
     },
     "execution_count": 2,
     "metadata": {},
     "output_type": "execute_result"
    }
   ],
   "source": [
    "df.shape"
   ]
  },
  {
   "cell_type": "markdown",
   "metadata": {},
   "source": [
    "Calculate the mean and the variance for each of the columns"
   ]
  },
  {
   "cell_type": "code",
   "execution_count": 3,
   "metadata": {},
   "outputs": [
    {
     "name": "stdout",
     "output_type": "stream",
     "text": [
      "model   -4.940656e-324\n",
      "mpg       2.009062e+01\n",
      "cyl       6.187500e+00\n",
      "disp      2.307219e+02\n",
      "hp        1.466875e+02\n",
      "drat      3.596563e+00\n",
      "wt        3.217250e+00\n",
      "qsec      1.784875e+01\n",
      "vs        4.375000e-01\n",
      "am        4.062500e-01\n",
      "gear      3.687500e+00\n",
      "carb      2.812500e+00\n",
      "dtype: float64\n",
      "mpg        36.324103\n",
      "cyl         3.189516\n",
      "disp    15360.799829\n",
      "hp       4700.866935\n",
      "drat        0.285881\n",
      "wt          0.957379\n",
      "qsec        3.193166\n",
      "vs          0.254032\n",
      "am          0.248992\n",
      "gear        0.544355\n",
      "carb        2.608871\n",
      "dtype: float64\n"
     ]
    }
   ],
   "source": [
    "# Solve Here\n",
    "# mean = np.mean(df)\n",
    "# var = np.var(df)\n",
    "# print(mean)\n",
    "# print(var)\n",
    "mean = df.mean()\n",
    "var = df.var()\n",
    "print(mean)\n",
    "print(var)"
   ]
  },
  {
   "cell_type": "markdown",
   "metadata": {},
   "source": [
    "The first column is called model. Although being called model, it contains the make and the model of the car. I would like you to find the average for all the columns grouped by the car make. Hint, the car make is the first word in the model column"
   ]
  },
  {
   "cell_type": "code",
   "execution_count": 4,
   "metadata": {},
   "outputs": [
    {
     "data": {
      "text/html": [
       "<div>\n",
       "<style scoped>\n",
       "    .dataframe tbody tr th:only-of-type {\n",
       "        vertical-align: middle;\n",
       "    }\n",
       "\n",
       "    .dataframe tbody tr th {\n",
       "        vertical-align: top;\n",
       "    }\n",
       "\n",
       "    .dataframe thead th {\n",
       "        text-align: right;\n",
       "    }\n",
       "</style>\n",
       "<table border=\"1\" class=\"dataframe\">\n",
       "  <thead>\n",
       "    <tr style=\"text-align: right;\">\n",
       "      <th></th>\n",
       "      <th>model</th>\n",
       "      <th>mpg</th>\n",
       "      <th>cyl</th>\n",
       "      <th>disp</th>\n",
       "      <th>hp</th>\n",
       "      <th>drat</th>\n",
       "      <th>wt</th>\n",
       "      <th>qsec</th>\n",
       "      <th>vs</th>\n",
       "      <th>am</th>\n",
       "      <th>gear</th>\n",
       "      <th>carb</th>\n",
       "      <th>car_make</th>\n",
       "    </tr>\n",
       "  </thead>\n",
       "  <tbody>\n",
       "    <tr>\n",
       "      <th>0</th>\n",
       "      <td>Mazda RX4</td>\n",
       "      <td>21.0</td>\n",
       "      <td>6</td>\n",
       "      <td>160.0</td>\n",
       "      <td>110</td>\n",
       "      <td>3.90</td>\n",
       "      <td>2.620</td>\n",
       "      <td>16.46</td>\n",
       "      <td>0</td>\n",
       "      <td>1</td>\n",
       "      <td>4</td>\n",
       "      <td>4</td>\n",
       "      <td>Mazda</td>\n",
       "    </tr>\n",
       "    <tr>\n",
       "      <th>1</th>\n",
       "      <td>Mazda RX4 Wag</td>\n",
       "      <td>21.0</td>\n",
       "      <td>6</td>\n",
       "      <td>160.0</td>\n",
       "      <td>110</td>\n",
       "      <td>3.90</td>\n",
       "      <td>2.875</td>\n",
       "      <td>17.02</td>\n",
       "      <td>0</td>\n",
       "      <td>1</td>\n",
       "      <td>4</td>\n",
       "      <td>4</td>\n",
       "      <td>Mazda</td>\n",
       "    </tr>\n",
       "    <tr>\n",
       "      <th>2</th>\n",
       "      <td>Datsun 710</td>\n",
       "      <td>22.8</td>\n",
       "      <td>4</td>\n",
       "      <td>108.0</td>\n",
       "      <td>93</td>\n",
       "      <td>3.85</td>\n",
       "      <td>2.320</td>\n",
       "      <td>18.61</td>\n",
       "      <td>1</td>\n",
       "      <td>1</td>\n",
       "      <td>4</td>\n",
       "      <td>1</td>\n",
       "      <td>Datsun</td>\n",
       "    </tr>\n",
       "    <tr>\n",
       "      <th>3</th>\n",
       "      <td>Hornet 4 Drive</td>\n",
       "      <td>21.4</td>\n",
       "      <td>6</td>\n",
       "      <td>258.0</td>\n",
       "      <td>110</td>\n",
       "      <td>3.08</td>\n",
       "      <td>3.215</td>\n",
       "      <td>19.44</td>\n",
       "      <td>1</td>\n",
       "      <td>0</td>\n",
       "      <td>3</td>\n",
       "      <td>1</td>\n",
       "      <td>Hornet</td>\n",
       "    </tr>\n",
       "    <tr>\n",
       "      <th>4</th>\n",
       "      <td>Hornet Sportabout</td>\n",
       "      <td>18.7</td>\n",
       "      <td>8</td>\n",
       "      <td>360.0</td>\n",
       "      <td>175</td>\n",
       "      <td>3.15</td>\n",
       "      <td>3.440</td>\n",
       "      <td>17.02</td>\n",
       "      <td>0</td>\n",
       "      <td>0</td>\n",
       "      <td>3</td>\n",
       "      <td>2</td>\n",
       "      <td>Hornet</td>\n",
       "    </tr>\n",
       "  </tbody>\n",
       "</table>\n",
       "</div>"
      ],
      "text/plain": [
       "               model   mpg  cyl   disp   hp  drat     wt   qsec  vs  am  gear  \\\n",
       "0          Mazda RX4  21.0    6  160.0  110  3.90  2.620  16.46   0   1     4   \n",
       "1      Mazda RX4 Wag  21.0    6  160.0  110  3.90  2.875  17.02   0   1     4   \n",
       "2         Datsun 710  22.8    4  108.0   93  3.85  2.320  18.61   1   1     4   \n",
       "3     Hornet 4 Drive  21.4    6  258.0  110  3.08  3.215  19.44   1   0     3   \n",
       "4  Hornet Sportabout  18.7    8  360.0  175  3.15  3.440  17.02   0   0     3   \n",
       "\n",
       "   carb car_make  \n",
       "0     4    Mazda  \n",
       "1     4    Mazda  \n",
       "2     1   Datsun  \n",
       "3     1   Hornet  \n",
       "4     2   Hornet  "
      ]
     },
     "execution_count": 4,
     "metadata": {},
     "output_type": "execute_result"
    }
   ],
   "source": [
    "# Solve Here\n",
    "df1 = df\n",
    "new = df1[\"model\"].str.split(\" \", n = 1, expand = True) \n",
    "df1[\"car_make\"]= new[0]\n",
    "df1.head(5)"
   ]
  },
  {
   "cell_type": "code",
   "execution_count": 5,
   "metadata": {},
   "outputs": [
    {
     "data": {
      "text/html": [
       "<div>\n",
       "<style scoped>\n",
       "    .dataframe tbody tr th:only-of-type {\n",
       "        vertical-align: middle;\n",
       "    }\n",
       "\n",
       "    .dataframe tbody tr th {\n",
       "        vertical-align: top;\n",
       "    }\n",
       "\n",
       "    .dataframe thead th {\n",
       "        text-align: right;\n",
       "    }\n",
       "</style>\n",
       "<table border=\"1\" class=\"dataframe\">\n",
       "  <thead>\n",
       "    <tr style=\"text-align: right;\">\n",
       "      <th></th>\n",
       "      <th>mpg</th>\n",
       "      <th>cyl</th>\n",
       "      <th>disp</th>\n",
       "      <th>hp</th>\n",
       "      <th>drat</th>\n",
       "      <th>wt</th>\n",
       "      <th>qsec</th>\n",
       "      <th>vs</th>\n",
       "      <th>am</th>\n",
       "      <th>gear</th>\n",
       "      <th>carb</th>\n",
       "    </tr>\n",
       "    <tr>\n",
       "      <th>car_make</th>\n",
       "      <th></th>\n",
       "      <th></th>\n",
       "      <th></th>\n",
       "      <th></th>\n",
       "      <th></th>\n",
       "      <th></th>\n",
       "      <th></th>\n",
       "      <th></th>\n",
       "      <th></th>\n",
       "      <th></th>\n",
       "      <th></th>\n",
       "    </tr>\n",
       "  </thead>\n",
       "  <tbody>\n",
       "    <tr>\n",
       "      <th>AMC</th>\n",
       "      <td>15.200000</td>\n",
       "      <td>8.000000</td>\n",
       "      <td>304.000000</td>\n",
       "      <td>150.000000</td>\n",
       "      <td>3.150000</td>\n",
       "      <td>3.435000</td>\n",
       "      <td>17.300000</td>\n",
       "      <td>0.000000</td>\n",
       "      <td>0.0</td>\n",
       "      <td>3.000000</td>\n",
       "      <td>2.0</td>\n",
       "    </tr>\n",
       "    <tr>\n",
       "      <th>Cadillac</th>\n",
       "      <td>10.400000</td>\n",
       "      <td>8.000000</td>\n",
       "      <td>472.000000</td>\n",
       "      <td>205.000000</td>\n",
       "      <td>2.930000</td>\n",
       "      <td>5.250000</td>\n",
       "      <td>17.980000</td>\n",
       "      <td>0.000000</td>\n",
       "      <td>0.0</td>\n",
       "      <td>3.000000</td>\n",
       "      <td>4.0</td>\n",
       "    </tr>\n",
       "    <tr>\n",
       "      <th>Camaro</th>\n",
       "      <td>13.300000</td>\n",
       "      <td>8.000000</td>\n",
       "      <td>350.000000</td>\n",
       "      <td>245.000000</td>\n",
       "      <td>3.730000</td>\n",
       "      <td>3.840000</td>\n",
       "      <td>15.410000</td>\n",
       "      <td>0.000000</td>\n",
       "      <td>0.0</td>\n",
       "      <td>3.000000</td>\n",
       "      <td>4.0</td>\n",
       "    </tr>\n",
       "    <tr>\n",
       "      <th>Chrysler</th>\n",
       "      <td>14.700000</td>\n",
       "      <td>8.000000</td>\n",
       "      <td>440.000000</td>\n",
       "      <td>230.000000</td>\n",
       "      <td>3.230000</td>\n",
       "      <td>5.345000</td>\n",
       "      <td>17.420000</td>\n",
       "      <td>0.000000</td>\n",
       "      <td>0.0</td>\n",
       "      <td>3.000000</td>\n",
       "      <td>4.0</td>\n",
       "    </tr>\n",
       "    <tr>\n",
       "      <th>Datsun</th>\n",
       "      <td>22.800000</td>\n",
       "      <td>4.000000</td>\n",
       "      <td>108.000000</td>\n",
       "      <td>93.000000</td>\n",
       "      <td>3.850000</td>\n",
       "      <td>2.320000</td>\n",
       "      <td>18.610000</td>\n",
       "      <td>1.000000</td>\n",
       "      <td>1.0</td>\n",
       "      <td>4.000000</td>\n",
       "      <td>1.0</td>\n",
       "    </tr>\n",
       "    <tr>\n",
       "      <th>Dodge</th>\n",
       "      <td>15.500000</td>\n",
       "      <td>8.000000</td>\n",
       "      <td>318.000000</td>\n",
       "      <td>150.000000</td>\n",
       "      <td>2.760000</td>\n",
       "      <td>3.520000</td>\n",
       "      <td>16.870000</td>\n",
       "      <td>0.000000</td>\n",
       "      <td>0.0</td>\n",
       "      <td>3.000000</td>\n",
       "      <td>2.0</td>\n",
       "    </tr>\n",
       "    <tr>\n",
       "      <th>Duster</th>\n",
       "      <td>14.300000</td>\n",
       "      <td>8.000000</td>\n",
       "      <td>360.000000</td>\n",
       "      <td>245.000000</td>\n",
       "      <td>3.210000</td>\n",
       "      <td>3.570000</td>\n",
       "      <td>15.840000</td>\n",
       "      <td>0.000000</td>\n",
       "      <td>0.0</td>\n",
       "      <td>3.000000</td>\n",
       "      <td>4.0</td>\n",
       "    </tr>\n",
       "    <tr>\n",
       "      <th>Ferrari</th>\n",
       "      <td>19.700000</td>\n",
       "      <td>6.000000</td>\n",
       "      <td>145.000000</td>\n",
       "      <td>175.000000</td>\n",
       "      <td>3.620000</td>\n",
       "      <td>2.770000</td>\n",
       "      <td>15.500000</td>\n",
       "      <td>0.000000</td>\n",
       "      <td>1.0</td>\n",
       "      <td>5.000000</td>\n",
       "      <td>6.0</td>\n",
       "    </tr>\n",
       "    <tr>\n",
       "      <th>Fiat</th>\n",
       "      <td>29.850000</td>\n",
       "      <td>4.000000</td>\n",
       "      <td>78.850000</td>\n",
       "      <td>66.000000</td>\n",
       "      <td>4.080000</td>\n",
       "      <td>2.067500</td>\n",
       "      <td>19.185000</td>\n",
       "      <td>1.000000</td>\n",
       "      <td>1.0</td>\n",
       "      <td>4.000000</td>\n",
       "      <td>1.0</td>\n",
       "    </tr>\n",
       "    <tr>\n",
       "      <th>Ford</th>\n",
       "      <td>15.800000</td>\n",
       "      <td>8.000000</td>\n",
       "      <td>351.000000</td>\n",
       "      <td>264.000000</td>\n",
       "      <td>4.220000</td>\n",
       "      <td>3.170000</td>\n",
       "      <td>14.500000</td>\n",
       "      <td>0.000000</td>\n",
       "      <td>1.0</td>\n",
       "      <td>5.000000</td>\n",
       "      <td>4.0</td>\n",
       "    </tr>\n",
       "    <tr>\n",
       "      <th>Honda</th>\n",
       "      <td>30.400000</td>\n",
       "      <td>4.000000</td>\n",
       "      <td>75.700000</td>\n",
       "      <td>52.000000</td>\n",
       "      <td>4.930000</td>\n",
       "      <td>1.615000</td>\n",
       "      <td>18.520000</td>\n",
       "      <td>1.000000</td>\n",
       "      <td>1.0</td>\n",
       "      <td>4.000000</td>\n",
       "      <td>2.0</td>\n",
       "    </tr>\n",
       "    <tr>\n",
       "      <th>Hornet</th>\n",
       "      <td>20.050000</td>\n",
       "      <td>7.000000</td>\n",
       "      <td>309.000000</td>\n",
       "      <td>142.500000</td>\n",
       "      <td>3.115000</td>\n",
       "      <td>3.327500</td>\n",
       "      <td>18.230000</td>\n",
       "      <td>0.500000</td>\n",
       "      <td>0.0</td>\n",
       "      <td>3.000000</td>\n",
       "      <td>1.5</td>\n",
       "    </tr>\n",
       "    <tr>\n",
       "      <th>Lincoln</th>\n",
       "      <td>10.400000</td>\n",
       "      <td>8.000000</td>\n",
       "      <td>460.000000</td>\n",
       "      <td>215.000000</td>\n",
       "      <td>3.000000</td>\n",
       "      <td>5.424000</td>\n",
       "      <td>17.820000</td>\n",
       "      <td>0.000000</td>\n",
       "      <td>0.0</td>\n",
       "      <td>3.000000</td>\n",
       "      <td>4.0</td>\n",
       "    </tr>\n",
       "    <tr>\n",
       "      <th>Lotus</th>\n",
       "      <td>30.400000</td>\n",
       "      <td>4.000000</td>\n",
       "      <td>95.100000</td>\n",
       "      <td>113.000000</td>\n",
       "      <td>3.770000</td>\n",
       "      <td>1.513000</td>\n",
       "      <td>16.900000</td>\n",
       "      <td>1.000000</td>\n",
       "      <td>1.0</td>\n",
       "      <td>5.000000</td>\n",
       "      <td>2.0</td>\n",
       "    </tr>\n",
       "    <tr>\n",
       "      <th>Maserati</th>\n",
       "      <td>15.000000</td>\n",
       "      <td>8.000000</td>\n",
       "      <td>301.000000</td>\n",
       "      <td>335.000000</td>\n",
       "      <td>3.540000</td>\n",
       "      <td>3.570000</td>\n",
       "      <td>14.600000</td>\n",
       "      <td>0.000000</td>\n",
       "      <td>1.0</td>\n",
       "      <td>5.000000</td>\n",
       "      <td>8.0</td>\n",
       "    </tr>\n",
       "    <tr>\n",
       "      <th>Mazda</th>\n",
       "      <td>21.000000</td>\n",
       "      <td>6.000000</td>\n",
       "      <td>160.000000</td>\n",
       "      <td>110.000000</td>\n",
       "      <td>3.900000</td>\n",
       "      <td>2.747500</td>\n",
       "      <td>16.740000</td>\n",
       "      <td>0.000000</td>\n",
       "      <td>1.0</td>\n",
       "      <td>4.000000</td>\n",
       "      <td>4.0</td>\n",
       "    </tr>\n",
       "    <tr>\n",
       "      <th>Merc</th>\n",
       "      <td>19.014286</td>\n",
       "      <td>6.285714</td>\n",
       "      <td>207.157143</td>\n",
       "      <td>134.714286</td>\n",
       "      <td>3.522857</td>\n",
       "      <td>3.542857</td>\n",
       "      <td>19.014286</td>\n",
       "      <td>0.571429</td>\n",
       "      <td>0.0</td>\n",
       "      <td>3.571429</td>\n",
       "      <td>3.0</td>\n",
       "    </tr>\n",
       "    <tr>\n",
       "      <th>Pontiac</th>\n",
       "      <td>19.200000</td>\n",
       "      <td>8.000000</td>\n",
       "      <td>400.000000</td>\n",
       "      <td>175.000000</td>\n",
       "      <td>3.080000</td>\n",
       "      <td>3.845000</td>\n",
       "      <td>17.050000</td>\n",
       "      <td>0.000000</td>\n",
       "      <td>0.0</td>\n",
       "      <td>3.000000</td>\n",
       "      <td>2.0</td>\n",
       "    </tr>\n",
       "    <tr>\n",
       "      <th>Porsche</th>\n",
       "      <td>26.000000</td>\n",
       "      <td>4.000000</td>\n",
       "      <td>120.300000</td>\n",
       "      <td>91.000000</td>\n",
       "      <td>4.430000</td>\n",
       "      <td>2.140000</td>\n",
       "      <td>16.700000</td>\n",
       "      <td>0.000000</td>\n",
       "      <td>1.0</td>\n",
       "      <td>5.000000</td>\n",
       "      <td>2.0</td>\n",
       "    </tr>\n",
       "    <tr>\n",
       "      <th>Toyota</th>\n",
       "      <td>27.700000</td>\n",
       "      <td>4.000000</td>\n",
       "      <td>95.600000</td>\n",
       "      <td>81.000000</td>\n",
       "      <td>3.960000</td>\n",
       "      <td>2.150000</td>\n",
       "      <td>19.955000</td>\n",
       "      <td>1.000000</td>\n",
       "      <td>0.5</td>\n",
       "      <td>3.500000</td>\n",
       "      <td>1.0</td>\n",
       "    </tr>\n",
       "    <tr>\n",
       "      <th>Valiant</th>\n",
       "      <td>18.100000</td>\n",
       "      <td>6.000000</td>\n",
       "      <td>225.000000</td>\n",
       "      <td>105.000000</td>\n",
       "      <td>2.760000</td>\n",
       "      <td>3.460000</td>\n",
       "      <td>20.220000</td>\n",
       "      <td>1.000000</td>\n",
       "      <td>0.0</td>\n",
       "      <td>3.000000</td>\n",
       "      <td>1.0</td>\n",
       "    </tr>\n",
       "    <tr>\n",
       "      <th>Volvo</th>\n",
       "      <td>21.400000</td>\n",
       "      <td>4.000000</td>\n",
       "      <td>121.000000</td>\n",
       "      <td>109.000000</td>\n",
       "      <td>4.110000</td>\n",
       "      <td>2.780000</td>\n",
       "      <td>18.600000</td>\n",
       "      <td>1.000000</td>\n",
       "      <td>1.0</td>\n",
       "      <td>4.000000</td>\n",
       "      <td>2.0</td>\n",
       "    </tr>\n",
       "  </tbody>\n",
       "</table>\n",
       "</div>"
      ],
      "text/plain": [
       "                mpg       cyl        disp          hp      drat        wt  \\\n",
       "car_make                                                                    \n",
       "AMC       15.200000  8.000000  304.000000  150.000000  3.150000  3.435000   \n",
       "Cadillac  10.400000  8.000000  472.000000  205.000000  2.930000  5.250000   \n",
       "Camaro    13.300000  8.000000  350.000000  245.000000  3.730000  3.840000   \n",
       "Chrysler  14.700000  8.000000  440.000000  230.000000  3.230000  5.345000   \n",
       "Datsun    22.800000  4.000000  108.000000   93.000000  3.850000  2.320000   \n",
       "Dodge     15.500000  8.000000  318.000000  150.000000  2.760000  3.520000   \n",
       "Duster    14.300000  8.000000  360.000000  245.000000  3.210000  3.570000   \n",
       "Ferrari   19.700000  6.000000  145.000000  175.000000  3.620000  2.770000   \n",
       "Fiat      29.850000  4.000000   78.850000   66.000000  4.080000  2.067500   \n",
       "Ford      15.800000  8.000000  351.000000  264.000000  4.220000  3.170000   \n",
       "Honda     30.400000  4.000000   75.700000   52.000000  4.930000  1.615000   \n",
       "Hornet    20.050000  7.000000  309.000000  142.500000  3.115000  3.327500   \n",
       "Lincoln   10.400000  8.000000  460.000000  215.000000  3.000000  5.424000   \n",
       "Lotus     30.400000  4.000000   95.100000  113.000000  3.770000  1.513000   \n",
       "Maserati  15.000000  8.000000  301.000000  335.000000  3.540000  3.570000   \n",
       "Mazda     21.000000  6.000000  160.000000  110.000000  3.900000  2.747500   \n",
       "Merc      19.014286  6.285714  207.157143  134.714286  3.522857  3.542857   \n",
       "Pontiac   19.200000  8.000000  400.000000  175.000000  3.080000  3.845000   \n",
       "Porsche   26.000000  4.000000  120.300000   91.000000  4.430000  2.140000   \n",
       "Toyota    27.700000  4.000000   95.600000   81.000000  3.960000  2.150000   \n",
       "Valiant   18.100000  6.000000  225.000000  105.000000  2.760000  3.460000   \n",
       "Volvo     21.400000  4.000000  121.000000  109.000000  4.110000  2.780000   \n",
       "\n",
       "               qsec        vs   am      gear  carb  \n",
       "car_make                                            \n",
       "AMC       17.300000  0.000000  0.0  3.000000   2.0  \n",
       "Cadillac  17.980000  0.000000  0.0  3.000000   4.0  \n",
       "Camaro    15.410000  0.000000  0.0  3.000000   4.0  \n",
       "Chrysler  17.420000  0.000000  0.0  3.000000   4.0  \n",
       "Datsun    18.610000  1.000000  1.0  4.000000   1.0  \n",
       "Dodge     16.870000  0.000000  0.0  3.000000   2.0  \n",
       "Duster    15.840000  0.000000  0.0  3.000000   4.0  \n",
       "Ferrari   15.500000  0.000000  1.0  5.000000   6.0  \n",
       "Fiat      19.185000  1.000000  1.0  4.000000   1.0  \n",
       "Ford      14.500000  0.000000  1.0  5.000000   4.0  \n",
       "Honda     18.520000  1.000000  1.0  4.000000   2.0  \n",
       "Hornet    18.230000  0.500000  0.0  3.000000   1.5  \n",
       "Lincoln   17.820000  0.000000  0.0  3.000000   4.0  \n",
       "Lotus     16.900000  1.000000  1.0  5.000000   2.0  \n",
       "Maserati  14.600000  0.000000  1.0  5.000000   8.0  \n",
       "Mazda     16.740000  0.000000  1.0  4.000000   4.0  \n",
       "Merc      19.014286  0.571429  0.0  3.571429   3.0  \n",
       "Pontiac   17.050000  0.000000  0.0  3.000000   2.0  \n",
       "Porsche   16.700000  0.000000  1.0  5.000000   2.0  \n",
       "Toyota    19.955000  1.000000  0.5  3.500000   1.0  \n",
       "Valiant   20.220000  1.000000  0.0  3.000000   1.0  \n",
       "Volvo     18.600000  1.000000  1.0  4.000000   2.0  "
      ]
     },
     "execution_count": 5,
     "metadata": {},
     "output_type": "execute_result"
    }
   ],
   "source": [
    "mean = df1.groupby('car_make').mean()\n",
    "mean"
   ]
  },
  {
   "cell_type": "markdown",
   "metadata": {},
   "source": [
    "Check if there is any duplications and nan in the dataset"
   ]
  },
  {
   "cell_type": "code",
   "execution_count": 6,
   "metadata": {},
   "outputs": [
    {
     "data": {
      "text/plain": [
       "model       0\n",
       "mpg         0\n",
       "cyl         0\n",
       "disp        0\n",
       "hp          0\n",
       "drat        0\n",
       "wt          0\n",
       "qsec        0\n",
       "vs          0\n",
       "am          0\n",
       "gear        0\n",
       "carb        0\n",
       "car_make    0\n",
       "dtype: int64"
      ]
     },
     "execution_count": 6,
     "metadata": {},
     "output_type": "execute_result"
    }
   ],
   "source": [
    "# Solve Here\n",
    "df.isnull().sum()"
   ]
  },
  {
   "cell_type": "code",
   "execution_count": 7,
   "metadata": {},
   "outputs": [
    {
     "data": {
      "text/plain": [
       "0"
      ]
     },
     "execution_count": 7,
     "metadata": {},
     "output_type": "execute_result"
    }
   ],
   "source": [
    "df.duplicated().sum()"
   ]
  },
  {
   "cell_type": "markdown",
   "metadata": {},
   "source": [
    "## 2- Linear Regression\n",
    "In this section we will do linear regression on the data given to us. First, we start by showing some plots"
   ]
  },
  {
   "cell_type": "code",
   "execution_count": 8,
   "metadata": {},
   "outputs": [],
   "source": [
    "import matplotlib.pyplot as plt\n",
    "%matplotlib inline "
   ]
  },
  {
   "cell_type": "markdown",
   "metadata": {},
   "source": [
    "refresh how we can do scatter plots in python. Now do a scatter plot for mpg and disp where mpg is on the y axis and disp is the x axis. Do you see strong relationship between them? explain"
   ]
  },
  {
   "cell_type": "code",
   "execution_count": 9,
   "metadata": {},
   "outputs": [
    {
     "data": {
      "text/plain": [
       "<matplotlib.collections.PathCollection at 0x11b15a780>"
      ]
     },
     "execution_count": 9,
     "metadata": {},
     "output_type": "execute_result"
    },
    {
     "data": {
      "image/png": "[encoded data removed]",
      "text/plain": [
       "<Figure size 432x288 with 1 Axes>"
      ]
     },
     "metadata": {
      "needs_background": "light"
     },
     "output_type": "display_data"
    }
   ],
   "source": [
    "# Solve and Comment Here\n",
    "plt.scatter(df.disp,df.mpg)\n",
    "###they have strong relationship, when x is larger y is smaller."
   ]
  },
  {
   "cell_type": "markdown",
   "metadata": {},
   "source": [
    "Build your own linear regression as we did in the lecture to calculate the coefficients and intercept that minimizes the lease square error when predicting mpg using disp. What are the values for the coefficients and intercept"
   ]
  },
  {
   "cell_type": "code",
   "execution_count": 13,
   "metadata": {},
   "outputs": [
    {
     "name": "stdout",
     "output_type": "stream",
     "text": [
      "-0.09217572308929863 49.996033078294104 123.17918953956399\n"
     ]
    },
    {
     "data": {
      "text/plain": [
       "[<matplotlib.lines.Line2D at 0x1a1d4dd7f0>]"
      ]
     },
     "execution_count": 13,
     "metadata": {},
     "output_type": "execute_result"
    },
    {
     "data": {
      "image/png": "[encoded data removed]",
      "text/plain": [
       "<Figure size 432x288 with 1 Axes>"
      ]
     },
     "metadata": {
      "needs_background": "light"
     },
     "output_type": "display_data"
    }
   ],
   "source": [
    "# Solve Here\n",
    "def predict_mpg (disp,weight,bias):\n",
    "    pred_mpg = weight*disp + bias\n",
    "    return pred_mpg\n",
    "def cost_function(true_label,predicted):\n",
    "    error = sum((true_label - predicted)**2)/len(true_label)\n",
    "    return error \n",
    "def update_weights(feature,true_label,weight,biase,learning_rate):\n",
    "    de_dw =  (-2)/len(true_label)*sum((true_label-weight*feature-biase)* feature)\n",
    "    de_db =  (-2)/len(true_label)*sum(true_label-weight*feature-biase)\n",
    "    weight = weight -learning_rate * de_dw\n",
    "    biase = biase -learning_rate * de_db\n",
    "    return weight,biase\n",
    "def train(feature,true_label,weight,biase,alpha,iters):\n",
    "    cost_history = []\n",
    "    for i in range(iters):\n",
    "        weight,biase = update_weights(feature,true_label,weight,biase,alpha)\n",
    "        predictions = predict_mpg(feature,weight,biase)\n",
    "        cost = cost_function(true_label,predictions)\n",
    "        cost_history.append(cost)   \n",
    "    return weight,biase,cost,cost_history\n",
    "w,b,c,c_h = train(df.disp,df.mpg,1,50,0.0000001,300)\n",
    "print(w,b,c)\n",
    "plt.plot(c_h)\n",
    "##y is cost , x is iteration"
   ]
  },
  {
   "cell_type": "markdown",
   "metadata": {},
   "source": [
    "Check if you get the same using sklearn linear regression model"
   ]
  },
  {
   "cell_type": "code",
   "execution_count": 11,
   "metadata": {},
   "outputs": [
    {
     "name": "stdout",
     "output_type": "stream",
     "text": [
      "coeffs is  [-0.04121512]\n",
      "bias is  29.59985475616395\n"
     ]
    }
   ],
   "source": [
    "# Solve Here\n",
    "from sklearn.linear_model import LinearRegression\n",
    "import numpy as np\n",
    "x = df.disp\n",
    "y = df.mpg\n",
    "temp = np.array(x).reshape(-1, 1)\n",
    "mod = LinearRegression().fit(temp,y)\n",
    "print('coeffs is ', mod.coef_)\n",
    "print('bias is ', mod.intercept_)"
   ]
  },
  {
   "cell_type": "markdown",
   "metadata": {},
   "source": [
    "Make a variable  called my_own_disp that goes between 100 and 500 with a step of 1. Use the variable and the coefficients calculated from the linear regression model to calculate the pred of mpg at each value of my_own_disp. Remember the equation pred=w0+w1*x. Plot the resulted line along with the scatter plot you plotted earlier and see if that is a good fit"
   ]
  },
  {
   "cell_type": "code",
   "execution_count": 12,
   "metadata": {},
   "outputs": [
    {
     "data": {
      "text/plain": [
       "<matplotlib.collections.PathCollection at 0x1a1cfd2b70>"
      ]
     },
     "execution_count": 12,
     "metadata": {},
     "output_type": "execute_result"
    },
    {
     "data": {
      "image/png": "[encoded data removed]",
      "text/plain": [
       "<Figure size 432x288 with 1 Axes>"
      ]
     },
     "metadata": {
      "needs_background": "light"
     },
     "output_type": "display_data"
    }
   ],
   "source": [
    "# Solve Here\n",
    "my_own_disp = np.arange(100,501)\n",
    "pred = -0.0412 * my_own_disp + 29.5999\n",
    "# print(my_own_disp)\n",
    "# print(pred)\n",
    "plt.plot(my_own_disp,pred,c = \"r\")\n",
    "plt.scatter(df.disp,df.mpg)"
   ]
  },
  {
   "cell_type": "markdown",
   "metadata": {},
   "source": [
    "Do a scatter plot between mpg and each of the features other than the model. Can you visually tell which features are more important in calculating the mpg?"
   ]
  },
  {
   "cell_type": "code",
   "execution_count": 13,
   "metadata": {},
   "outputs": [
    {
     "data": {
      "image/png": "[encoded data removed]",
      "text/plain": [
       "<Figure size 1152x1152 with 10 Axes>"
      ]
     },
     "metadata": {
      "needs_background": "light"
     },
     "output_type": "display_data"
    }
   ],
   "source": [
    "# Solve Here\n",
    "y = df.mpg\n",
    "x = df[[\"cyl\",\"disp\",\"hp\",\"drat\",\"wt\",\"qsec\",\"vs\",\"am\",\"gear\",\"carb\"]]\n",
    "plt.figure(figsize=(16,16))\n",
    "i=1\n",
    "for ele in x:\n",
    "    plt.subplot(4,3,i)\n",
    "    plt.scatter(x[ele],y)\n",
    "    i+=1\n",
    "    plt.title('Graph of ' + ele)\n",
    "###### disp , hp, drat,wt,qsec are more important to calculate the mpg."
   ]
  },
  {
   "cell_type": "markdown",
   "metadata": {},
   "source": [
    "Now, do a linear regression model using sklearn to fit all the features except the model and predict the mpg. What are the coefficients for each feature? Based on the coefficients, can you tell which features are important? Does it match your expectations from what you have visually seen?"
   ]
  },
  {
   "cell_type": "code",
   "execution_count": 14,
   "metadata": {},
   "outputs": [],
   "source": [
    "from sklearn.linear_model import LinearRegression\n",
    "from sklearn.preprocessing import StandardScaler\n",
    "import numpy as np"
   ]
  },
  {
   "cell_type": "code",
   "execution_count": 15,
   "metadata": {},
   "outputs": [
    {
     "name": "stdout",
     "output_type": "stream",
     "text": [
      "(32, 10)\n"
     ]
    }
   ],
   "source": [
    "# Solve and Comment Here\n",
    "####Data Scaling\n",
    "scaler = StandardScaler().fit(x)\n",
    "x_scaled=scaler.transform(x)\n",
    "print(x_scaled.shape)"
   ]
  },
  {
   "cell_type": "code",
   "execution_count": 16,
   "metadata": {},
   "outputs": [
    {
     "name": "stdout",
     "output_type": "stream",
     "text": [
      "coeffs are  [-0.19588953  1.626723   -1.44967936  0.4142235  -3.57801491  1.444047\n",
      "  0.15763526  1.23776483  0.47595069 -0.31702919]\n",
      "bias is  20.090625000000006\n"
     ]
    }
   ],
   "source": [
    "####modeling\n",
    "mod = LinearRegression().fit(x_scaled,y)\n",
    "print('coeffs are ', mod.coef_)\n",
    "print('bias is ', mod.intercept_)"
   ]
  },
  {
   "cell_type": "markdown",
   "metadata": {},
   "source": [
    "disp , hp, wt,qsec are important."
   ]
  },
  {
   "cell_type": "code",
   "execution_count": null,
   "metadata": {},
   "outputs": [],
   "source": []
  },
  {
   "cell_type": "code",
   "execution_count": null,
   "metadata": {},
   "outputs": [],
   "source": []
  }
 ],
 "metadata": {
  "kernelspec": {
   "display_name": "Python 3",
   "language": "python",
   "name": "python3"
  },
  "language_info": {
   "codemirror_mode": {
    "name": "ipython",
    "version": 3
   },
   "file_extension": ".py",
   "mimetype": "text/x-python",
   "name": "python",
   "nbconvert_exporter": "python",
   "pygments_lexer": "ipython3",
   "version": "3.6.5"
  }
 },
 "nbformat": 4,
 "nbformat_minor": 2
}
