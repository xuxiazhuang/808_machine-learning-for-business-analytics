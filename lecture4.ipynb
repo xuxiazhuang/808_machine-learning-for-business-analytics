{
 "cells": [
  {
   "cell_type": "code",
   "execution_count": 53,
   "metadata": {},
   "outputs": [
    {
     "name": "stdout",
     "output_type": "stream",
     "text": [
      "(768, 9)\n"
     ]
    }
   ],
   "source": [
    "import pandas as pd\n",
    "df = pd.read_csv(\"diabetes.csv\")\n",
    "print(df.shape)"
   ]
  },
  {
   "cell_type": "code",
   "execution_count": 54,
   "metadata": {},
   "outputs": [
    {
     "data": {
      "text/html": [
       "<div>\n",
       "<style scoped>\n",
       "    .dataframe tbody tr th:only-of-type {\n",
       "        vertical-align: middle;\n",
       "    }\n",
       "\n",
       "    .dataframe tbody tr th {\n",
       "        vertical-align: top;\n",
       "    }\n",
       "\n",
       "    .dataframe thead th {\n",
       "        text-align: right;\n",
       "    }\n",
       "</style>\n",
       "<table border=\"1\" class=\"dataframe\">\n",
       "  <thead>\n",
       "    <tr style=\"text-align: right;\">\n",
       "      <th></th>\n",
       "      <th>Pregnancies</th>\n",
       "      <th>Glucose</th>\n",
       "      <th>BloodPressure</th>\n",
       "      <th>SkinThickness</th>\n",
       "      <th>Insulin</th>\n",
       "      <th>BMI</th>\n",
       "      <th>DiabetesPedigreeFunction</th>\n",
       "      <th>Age</th>\n",
       "      <th>Outcome</th>\n",
       "    </tr>\n",
       "  </thead>\n",
       "  <tbody>\n",
       "    <tr>\n",
       "      <th>0</th>\n",
       "      <td>6</td>\n",
       "      <td>148</td>\n",
       "      <td>72</td>\n",
       "      <td>35</td>\n",
       "      <td>0</td>\n",
       "      <td>33.6</td>\n",
       "      <td>0.627</td>\n",
       "      <td>50</td>\n",
       "      <td>1</td>\n",
       "    </tr>\n",
       "    <tr>\n",
       "      <th>1</th>\n",
       "      <td>1</td>\n",
       "      <td>85</td>\n",
       "      <td>66</td>\n",
       "      <td>29</td>\n",
       "      <td>0</td>\n",
       "      <td>26.6</td>\n",
       "      <td>0.351</td>\n",
       "      <td>31</td>\n",
       "      <td>0</td>\n",
       "    </tr>\n",
       "    <tr>\n",
       "      <th>2</th>\n",
       "      <td>8</td>\n",
       "      <td>183</td>\n",
       "      <td>64</td>\n",
       "      <td>0</td>\n",
       "      <td>0</td>\n",
       "      <td>23.3</td>\n",
       "      <td>0.672</td>\n",
       "      <td>32</td>\n",
       "      <td>1</td>\n",
       "    </tr>\n",
       "    <tr>\n",
       "      <th>3</th>\n",
       "      <td>1</td>\n",
       "      <td>89</td>\n",
       "      <td>66</td>\n",
       "      <td>23</td>\n",
       "      <td>94</td>\n",
       "      <td>28.1</td>\n",
       "      <td>0.167</td>\n",
       "      <td>21</td>\n",
       "      <td>0</td>\n",
       "    </tr>\n",
       "    <tr>\n",
       "      <th>4</th>\n",
       "      <td>0</td>\n",
       "      <td>137</td>\n",
       "      <td>40</td>\n",
       "      <td>35</td>\n",
       "      <td>168</td>\n",
       "      <td>43.1</td>\n",
       "      <td>2.288</td>\n",
       "      <td>33</td>\n",
       "      <td>1</td>\n",
       "    </tr>\n",
       "  </tbody>\n",
       "</table>\n",
       "</div>"
      ],
      "text/plain": [
       "   Pregnancies  Glucose  BloodPressure  SkinThickness  Insulin   BMI  \\\n",
       "0            6      148             72             35        0  33.6   \n",
       "1            1       85             66             29        0  26.6   \n",
       "2            8      183             64              0        0  23.3   \n",
       "3            1       89             66             23       94  28.1   \n",
       "4            0      137             40             35      168  43.1   \n",
       "\n",
       "   DiabetesPedigreeFunction  Age  Outcome  \n",
       "0                     0.627   50        1  \n",
       "1                     0.351   31        0  \n",
       "2                     0.672   32        1  \n",
       "3                     0.167   21        0  \n",
       "4                     2.288   33        1  "
      ]
     },
     "execution_count": 54,
     "metadata": {},
     "output_type": "execute_result"
    }
   ],
   "source": [
    "df.head(5)"
   ]
  },
  {
   "cell_type": "code",
   "execution_count": 55,
   "metadata": {},
   "outputs": [
    {
     "data": {
      "text/plain": [
       "Pregnancies                 0\n",
       "Glucose                     0\n",
       "BloodPressure               0\n",
       "SkinThickness               0\n",
       "Insulin                     0\n",
       "BMI                         0\n",
       "DiabetesPedigreeFunction    0\n",
       "Age                         0\n",
       "Outcome                     0\n",
       "dtype: int64"
      ]
     },
     "execution_count": 55,
     "metadata": {},
     "output_type": "execute_result"
    }
   ],
   "source": [
    "df.isnull().sum()"
   ]
  },
  {
   "cell_type": "code",
   "execution_count": 56,
   "metadata": {},
   "outputs": [
    {
     "data": {
      "text/html": [
       "<div>\n",
       "<style scoped>\n",
       "    .dataframe tbody tr th:only-of-type {\n",
       "        vertical-align: middle;\n",
       "    }\n",
       "\n",
       "    .dataframe tbody tr th {\n",
       "        vertical-align: top;\n",
       "    }\n",
       "\n",
       "    .dataframe thead th {\n",
       "        text-align: right;\n",
       "    }\n",
       "</style>\n",
       "<table border=\"1\" class=\"dataframe\">\n",
       "  <thead>\n",
       "    <tr style=\"text-align: right;\">\n",
       "      <th></th>\n",
       "      <th>Pregnancies</th>\n",
       "      <th>Glucose</th>\n",
       "      <th>BloodPressure</th>\n",
       "      <th>SkinThickness</th>\n",
       "      <th>Insulin</th>\n",
       "      <th>BMI</th>\n",
       "      <th>DiabetesPedigreeFunction</th>\n",
       "      <th>Age</th>\n",
       "    </tr>\n",
       "    <tr>\n",
       "      <th>Outcome</th>\n",
       "      <th></th>\n",
       "      <th></th>\n",
       "      <th></th>\n",
       "      <th></th>\n",
       "      <th></th>\n",
       "      <th></th>\n",
       "      <th></th>\n",
       "      <th></th>\n",
       "    </tr>\n",
       "  </thead>\n",
       "  <tbody>\n",
       "    <tr>\n",
       "      <th>0</th>\n",
       "      <td>500</td>\n",
       "      <td>500</td>\n",
       "      <td>500</td>\n",
       "      <td>500</td>\n",
       "      <td>500</td>\n",
       "      <td>500</td>\n",
       "      <td>500</td>\n",
       "      <td>500</td>\n",
       "    </tr>\n",
       "    <tr>\n",
       "      <th>1</th>\n",
       "      <td>268</td>\n",
       "      <td>268</td>\n",
       "      <td>268</td>\n",
       "      <td>268</td>\n",
       "      <td>268</td>\n",
       "      <td>268</td>\n",
       "      <td>268</td>\n",
       "      <td>268</td>\n",
       "    </tr>\n",
       "  </tbody>\n",
       "</table>\n",
       "</div>"
      ],
      "text/plain": [
       "         Pregnancies  Glucose  BloodPressure  SkinThickness  Insulin  BMI  \\\n",
       "Outcome                                                                     \n",
       "0                500      500            500            500      500  500   \n",
       "1                268      268            268            268      268  268   \n",
       "\n",
       "         DiabetesPedigreeFunction  Age  \n",
       "Outcome                                 \n",
       "0                             500  500  \n",
       "1                             268  268  "
      ]
     },
     "execution_count": 56,
     "metadata": {},
     "output_type": "execute_result"
    }
   ],
   "source": [
    "df.groupby('Outcome').count()"
   ]
  },
  {
   "cell_type": "code",
   "execution_count": 57,
   "metadata": {},
   "outputs": [
    {
     "name": "stdout",
     "output_type": "stream",
     "text": [
      "(614, 8)\n",
      "(154, 8)\n"
     ]
    }
   ],
   "source": [
    "####  make model\n",
    "## 1 step split the data\n",
    "from sklearn.model_selection import train_test_split\n",
    "from sklearn.linear_model import LogisticRegression\n",
    "# x = df.loc[:,df.columns != 'Outcome'] # X = df.drop('Outcome') # x = df.loc[:,0:8]\n",
    "x = df[['Pregnancies','Glucose','BloodPressure','SkinThickness','Insulin','BMI','DiabetesPedigreeFunction','Age']] ###how to use iloc\n",
    "y = df.Outcome\n",
    "x_train,x_test,y_train,y_test=train_test_split(x,y,test_size=0.2)\n",
    "print(x_train.shape)\n",
    "print(x_test.shape)"
   ]
  },
  {
   "cell_type": "code",
   "execution_count": 58,
   "metadata": {},
   "outputs": [
    {
     "data": {
      "text/plain": [
       "LogisticRegression(C=1.0, class_weight=None, dual=False, fit_intercept=True,\n",
       "          intercept_scaling=1, max_iter=100, multi_class='ovr', n_jobs=1,\n",
       "          penalty='l2', random_state=None, solver='liblinear', tol=0.0001,\n",
       "          verbose=0, warm_start=False)"
      ]
     },
     "execution_count": 58,
     "metadata": {},
     "output_type": "execute_result"
    }
   ],
   "source": [
    "mod=LogisticRegression()\n",
    "mod.fit(x_train,y_train)"
   ]
  },
  {
   "cell_type": "code",
   "execution_count": 59,
   "metadata": {},
   "outputs": [
    {
     "data": {
      "text/plain": [
       "0.7736156351791531"
      ]
     },
     "execution_count": 59,
     "metadata": {},
     "output_type": "execute_result"
    }
   ],
   "source": [
    "### score of training data\n",
    "score = mod.score(x_train,y_train)\n",
    "score"
   ]
  },
  {
   "cell_type": "code",
   "execution_count": 60,
   "metadata": {},
   "outputs": [
    {
     "data": {
      "text/plain": [
       "0.7922077922077922"
      ]
     },
     "execution_count": 60,
     "metadata": {},
     "output_type": "execute_result"
    }
   ],
   "source": [
    "### score of testing data\n",
    "score = mod.score(x_test,y_test)\n",
    "score"
   ]
  },
  {
   "cell_type": "code",
   "execution_count": 61,
   "metadata": {},
   "outputs": [
    {
     "data": {
      "text/plain": [
       "array([[ 1.13965723e-01,  2.74561152e-02, -1.23142351e-02,\n",
       "        -8.80247671e-04, -4.19988122e-04,  4.67529025e-02,\n",
       "         7.59200291e-01,  6.04653350e-03]])"
      ]
     },
     "execution_count": 61,
     "metadata": {},
     "output_type": "execute_result"
    }
   ],
   "source": [
    "mod.coef_"
   ]
  },
  {
   "cell_type": "code",
   "execution_count": 62,
   "metadata": {},
   "outputs": [
    {
     "data": {
      "text/plain": [
       "<BarContainer object of 8 artists>"
      ]
     },
     "execution_count": 62,
     "metadata": {},
     "output_type": "execute_result"
    },
    {
     "data": {
      "image/png": "[encoded data removed]",
      "text/plain": [
       "<Figure size 1080x504 with 1 Axes>"
      ]
     },
     "metadata": {
      "needs_background": "light"
     },
     "output_type": "display_data"
    }
   ],
   "source": [
    "import matplotlib.pyplot as plt\n",
    "plt.figure(figsize = [15,7])\n",
    "plt.bar(list(df.columns[df.columns != 'Outcome']),mod.coef_[0])"
   ]
  },
  {
   "cell_type": "code",
   "execution_count": 63,
   "metadata": {},
   "outputs": [
    {
     "data": {
      "text/plain": [
       "LogisticRegression(C=1.0, class_weight=None, dual=False, fit_intercept=True,\n",
       "          intercept_scaling=1, max_iter=100, multi_class='ovr', n_jobs=1,\n",
       "          penalty='l2', random_state=None, solver='liblinear', tol=0.0001,\n",
       "          verbose=0, warm_start=False)"
      ]
     },
     "execution_count": 63,
     "metadata": {},
     "output_type": "execute_result"
    }
   ],
   "source": [
    "#### scaling the training data \n",
    "### scaling can in increase the accuracy in some sense , because reduce the biase\n",
    "from sklearn.preprocessing import StandardScaler\n",
    "scaler = StandardScaler().fit(x_train)\n",
    "x_train_scaled=scaler.transform(x_train)\n",
    "mod2=LogisticRegression()\n",
    "mod2.fit(x_train_scaled,y_train)"
   ]
  },
  {
   "cell_type": "code",
   "execution_count": 64,
   "metadata": {},
   "outputs": [
    {
     "data": {
      "text/plain": [
       "array([[ 0.40068091,  1.10972324, -0.13874077, -0.01638858, -0.11374957,\n",
       "         0.61852686,  0.35683679,  0.1710686 ]])"
      ]
     },
     "execution_count": 64,
     "metadata": {},
     "output_type": "execute_result"
    }
   ],
   "source": [
    "mod2.coef_"
   ]
  },
  {
   "cell_type": "code",
   "execution_count": 65,
   "metadata": {},
   "outputs": [
    {
     "data": {
      "text/plain": [
       "<BarContainer object of 8 artists>"
      ]
     },
     "execution_count": 65,
     "metadata": {},
     "output_type": "execute_result"
    },
    {
     "data": {
      "image/png": "[encoded data removed]",
      "text/plain": [
       "<Figure size 1080x504 with 1 Axes>"
      ]
     },
     "metadata": {
      "needs_background": "light"
     },
     "output_type": "display_data"
    }
   ],
   "source": [
    "import matplotlib.pyplot as plt\n",
    "plt.figure(figsize = [15,7])\n",
    "plt.bar(list(df.columns[df.columns != 'Outcome']),mod2.coef_[0])"
   ]
  },
  {
   "cell_type": "code",
   "execution_count": 66,
   "metadata": {},
   "outputs": [
    {
     "data": {
      "text/plain": [
       "0.7768729641693811"
      ]
     },
     "execution_count": 66,
     "metadata": {},
     "output_type": "execute_result"
    }
   ],
   "source": [
    "score1 = mod2.score(x_train_scaled,y_train)\n",
    "score1"
   ]
  },
  {
   "cell_type": "code",
   "execution_count": 67,
   "metadata": {},
   "outputs": [
    {
     "data": {
      "text/plain": [
       "0.7662337662337663"
      ]
     },
     "execution_count": 67,
     "metadata": {},
     "output_type": "execute_result"
    }
   ],
   "source": [
    "score2 = mod2.score(scaler.transform(x_test),y_test)\n",
    "score2"
   ]
  },
  {
   "cell_type": "code",
   "execution_count": 68,
   "metadata": {},
   "outputs": [
    {
     "data": {
      "text/plain": [
       "array([0, 0, 0, 0, 0, 0, 0, 0, 0, 0, 0, 0, 1, 1, 0, 0, 1, 0, 0, 0, 0, 0,\n",
       "       0, 0, 0, 0, 0, 0, 0, 0, 0, 0, 1, 0, 0, 0, 0, 0, 1, 0, 1, 1, 1, 0,\n",
       "       0, 0, 1, 0, 0, 0, 0, 1, 0, 0, 0, 1, 0, 0, 0, 0, 0, 1, 0, 1, 1, 1,\n",
       "       0, 1, 0, 0, 0, 0, 0, 1, 1, 0, 0, 1, 1, 0, 1, 0, 0, 0, 0, 1, 0, 0,\n",
       "       0, 0, 1, 0, 0, 0, 1, 0, 0, 1, 0, 0, 0, 0, 0, 0, 0, 1, 0, 0, 0, 0,\n",
       "       0, 1, 0, 0, 1, 0, 1, 1, 0, 0, 1, 0, 1, 0, 0, 0, 1, 0, 0, 0, 1, 0,\n",
       "       1, 0, 1, 0, 0, 0, 0, 1, 0, 0, 0, 1, 0, 0, 0, 0, 0, 0, 0, 0, 1, 1])"
      ]
     },
     "execution_count": 68,
     "metadata": {},
     "output_type": "execute_result"
    }
   ],
   "source": [
    "###\n",
    "mod.predict(x_test)"
   ]
  },
  {
   "cell_type": "code",
   "execution_count": 69,
   "metadata": {},
   "outputs": [
    {
     "data": {
      "text/plain": [
       "array([[0.87662433, 0.12337567],\n",
       "       [0.6438783 , 0.3561217 ],\n",
       "       [0.54730999, 0.45269001],\n",
       "       [0.91193191, 0.08806809],\n",
       "       [0.90321987, 0.09678013],\n",
       "       [0.82596205, 0.17403795],\n",
       "       [0.79449057, 0.20550943],\n",
       "       [0.81390418, 0.18609582],\n",
       "       [0.92761296, 0.07238704],\n",
       "       [0.90590152, 0.09409848],\n",
       "       [0.72517872, 0.27482128],\n",
       "       [0.7186747 , 0.2813253 ],\n",
       "       [0.48184295, 0.51815705],\n",
       "       [0.303841  , 0.696159  ],\n",
       "       [0.51353679, 0.48646321],\n",
       "       [0.77669266, 0.22330734],\n",
       "       [0.39692372, 0.60307628],\n",
       "       [0.66594767, 0.33405233],\n",
       "       [0.65143919, 0.34856081],\n",
       "       [0.65189259, 0.34810741],\n",
       "       [0.87016244, 0.12983756],\n",
       "       [0.82808931, 0.17191069],\n",
       "       [0.9225511 , 0.0774489 ],\n",
       "       [0.8075755 , 0.1924245 ],\n",
       "       [0.78295144, 0.21704856],\n",
       "       [0.92229978, 0.07770022],\n",
       "       [0.82747749, 0.17252251],\n",
       "       [0.93940691, 0.06059309],\n",
       "       [0.69002001, 0.30997999],\n",
       "       [0.82080842, 0.17919158],\n",
       "       [0.57865987, 0.42134013],\n",
       "       [0.61340461, 0.38659539],\n",
       "       [0.48906093, 0.51093907],\n",
       "       [0.82446606, 0.17553394],\n",
       "       [0.55414299, 0.44585701],\n",
       "       [0.71369814, 0.28630186],\n",
       "       [0.84479415, 0.15520585],\n",
       "       [0.8898073 , 0.1101927 ],\n",
       "       [0.40483201, 0.59516799],\n",
       "       [0.64456943, 0.35543057],\n",
       "       [0.20236601, 0.79763399],\n",
       "       [0.26441547, 0.73558453],\n",
       "       [0.1684477 , 0.8315523 ],\n",
       "       [0.82184484, 0.17815516],\n",
       "       [0.54303484, 0.45696516],\n",
       "       [0.75893741, 0.24106259],\n",
       "       [0.16102719, 0.83897281],\n",
       "       [0.87679195, 0.12320805],\n",
       "       [0.58515539, 0.41484461],\n",
       "       [0.51110468, 0.48889532],\n",
       "       [0.91051767, 0.08948233],\n",
       "       [0.45010342, 0.54989658],\n",
       "       [0.67864548, 0.32135452],\n",
       "       [0.67262923, 0.32737077],\n",
       "       [0.78626283, 0.21373717],\n",
       "       [0.17812299, 0.82187701],\n",
       "       [0.54751318, 0.45248682],\n",
       "       [0.80046641, 0.19953359],\n",
       "       [0.86810253, 0.13189747],\n",
       "       [0.83175227, 0.16824773],\n",
       "       [0.65936529, 0.34063471],\n",
       "       [0.1938593 , 0.8061407 ],\n",
       "       [0.53052242, 0.46947758],\n",
       "       [0.25227586, 0.74772414],\n",
       "       [0.04328356, 0.95671644],\n",
       "       [0.17779991, 0.82220009],\n",
       "       [0.62031548, 0.37968452],\n",
       "       [0.29815183, 0.70184817],\n",
       "       [0.87010638, 0.12989362],\n",
       "       [0.77966158, 0.22033842],\n",
       "       [0.82271711, 0.17728289],\n",
       "       [0.65647148, 0.34352852],\n",
       "       [0.91958505, 0.08041495],\n",
       "       [0.15359353, 0.84640647],\n",
       "       [0.45554916, 0.54445084],\n",
       "       [0.84524914, 0.15475086],\n",
       "       [0.83893427, 0.16106573],\n",
       "       [0.49034457, 0.50965543],\n",
       "       [0.33162986, 0.66837014],\n",
       "       [0.71585068, 0.28414932],\n",
       "       [0.12453241, 0.87546759],\n",
       "       [0.71750513, 0.28249487],\n",
       "       [0.89387185, 0.10612815],\n",
       "       [0.53617962, 0.46382038],\n",
       "       [0.6124492 , 0.3875508 ],\n",
       "       [0.22019397, 0.77980603],\n",
       "       [0.62056083, 0.37943917],\n",
       "       [0.92036057, 0.07963943],\n",
       "       [0.78558451, 0.21441549],\n",
       "       [0.75176868, 0.24823132],\n",
       "       [0.309178  , 0.690822  ],\n",
       "       [0.65833972, 0.34166028],\n",
       "       [0.76255635, 0.23744365],\n",
       "       [0.88928135, 0.11071865],\n",
       "       [0.42257822, 0.57742178],\n",
       "       [0.80105149, 0.19894851],\n",
       "       [0.82691886, 0.17308114],\n",
       "       [0.36722742, 0.63277258],\n",
       "       [0.85343736, 0.14656264],\n",
       "       [0.5162748 , 0.4837252 ],\n",
       "       [0.66884182, 0.33115818],\n",
       "       [0.59935077, 0.40064923],\n",
       "       [0.75021807, 0.24978193],\n",
       "       [0.80068013, 0.19931987],\n",
       "       [0.76633068, 0.23366932],\n",
       "       [0.35450318, 0.64549682],\n",
       "       [0.673923  , 0.326077  ],\n",
       "       [0.52078065, 0.47921935],\n",
       "       [0.60145233, 0.39854767],\n",
       "       [0.72228371, 0.27771629],\n",
       "       [0.50849079, 0.49150921],\n",
       "       [0.26012947, 0.73987053],\n",
       "       [0.61625043, 0.38374957],\n",
       "       [0.7341118 , 0.2658882 ],\n",
       "       [0.22452385, 0.77547615],\n",
       "       [0.85914814, 0.14085186],\n",
       "       [0.18981342, 0.81018658],\n",
       "       [0.43881809, 0.56118191],\n",
       "       [0.74616662, 0.25383338],\n",
       "       [0.8686021 , 0.1313979 ],\n",
       "       [0.31991853, 0.68008147],\n",
       "       [0.8517203 , 0.1482797 ],\n",
       "       [0.41884428, 0.58115572],\n",
       "       [0.86276777, 0.13723223],\n",
       "       [0.84664297, 0.15335703],\n",
       "       [0.77130895, 0.22869105],\n",
       "       [0.40427653, 0.59572347],\n",
       "       [0.8162405 , 0.1837595 ],\n",
       "       [0.77985413, 0.22014587],\n",
       "       [0.83409831, 0.16590169],\n",
       "       [0.27224583, 0.72775417],\n",
       "       [0.83622871, 0.16377129],\n",
       "       [0.10246062, 0.89753938],\n",
       "       [0.81175228, 0.18824772],\n",
       "       [0.3396487 , 0.6603513 ],\n",
       "       [0.6694704 , 0.3305296 ],\n",
       "       [0.83639981, 0.16360019],\n",
       "       [0.83512224, 0.16487776],\n",
       "       [0.72583807, 0.27416193],\n",
       "       [0.12429208, 0.87570792],\n",
       "       [0.6328768 , 0.3671232 ],\n",
       "       [0.52784617, 0.47215383],\n",
       "       [0.7208696 , 0.2791304 ],\n",
       "       [0.28225346, 0.71774654],\n",
       "       [0.77780678, 0.22219322],\n",
       "       [0.59386533, 0.40613467],\n",
       "       [0.75539277, 0.24460723],\n",
       "       [0.68679905, 0.31320095],\n",
       "       [0.71059619, 0.28940381],\n",
       "       [0.89372551, 0.10627449],\n",
       "       [0.89570082, 0.10429918],\n",
       "       [0.82778164, 0.17221836],\n",
       "       [0.48858961, 0.51141039],\n",
       "       [0.3395748 , 0.6604252 ]])"
      ]
     },
     "execution_count": 69,
     "metadata": {},
     "output_type": "execute_result"
    }
   ],
   "source": [
    "prob_test = mod.predict_proba(x_test) #### the probability you get 0 and 1\n",
    "prob_test\n",
    "### with probability we can pick some certain points"
   ]
  },
  {
   "cell_type": "markdown",
   "metadata": {},
   "source": [
    "# 5.4 new"
   ]
  },
  {
   "cell_type": "code",
   "execution_count": 80,
   "metadata": {},
   "outputs": [
    {
     "data": {
      "text/plain": [
       "Text(0.5,0,'Probability of being 1')"
      ]
     },
     "execution_count": 80,
     "metadata": {},
     "output_type": "execute_result"
    },
    {
     "data": {
      "image/png": "[encoded data removed]",
      "text/plain": [
       "<Figure size 936x720 with 1 Axes>"
      ]
     },
     "metadata": {
      "needs_background": "light"
     },
     "output_type": "display_data"
    }
   ],
   "source": [
    "#####\n",
    "plt.figure(figsize = (13,10))\n",
    "## pick 1 column of y_test = 1 \n",
    "plt.scatter(prob_test[y_test == 1,1],y_test[y_test ==1])\n",
    "plt.scatter(prob_test[y_test == 0,0],y_test[y_test ==0],c= 'r',marker = 'o')\n",
    "plt.xlabel(\"Probability of being 1\")"
   ]
  },
  {
   "cell_type": "code",
   "execution_count": 81,
   "metadata": {},
   "outputs": [
    {
     "data": {
      "text/plain": [
       "(array([21.,  0.,  0.,  0.,  0.,  0.,  0.,  0.,  0., 29.]),\n",
       " array([0. , 0.1, 0.2, 0.3, 0.4, 0.5, 0.6, 0.7, 0.8, 0.9, 1. ]),\n",
       " <a list of 10 Patch objects>)"
      ]
     },
     "execution_count": 81,
     "metadata": {},
     "output_type": "execute_result"
    },
    {
     "data": {
      "image/png": "[encoded data removed]",
      "text/plain": [
       "<Figure size 432x288 with 1 Axes>"
      ]
     },
     "metadata": {
      "needs_background": "light"
     },
     "output_type": "display_data"
    }
   ],
   "source": [
    "test_pred = mod.predict(x_test)\n",
    "plt.hist(test_pred[y_test == 1])"
   ]
  },
  {
   "cell_type": "code",
   "execution_count": 82,
   "metadata": {},
   "outputs": [
    {
     "data": {
      "text/plain": [
       "(array([93.,  0.,  0.,  0.,  0.,  0.,  0.,  0.,  0., 11.]),\n",
       " array([0. , 0.1, 0.2, 0.3, 0.4, 0.5, 0.6, 0.7, 0.8, 0.9, 1. ]),\n",
       " <a list of 10 Patch objects>)"
      ]
     },
     "execution_count": 82,
     "metadata": {},
     "output_type": "execute_result"
    },
    {
     "data": {
      "image/png": "[encoded data removed]",
      "text/plain": [
       "<Figure size 432x288 with 1 Axes>"
      ]
     },
     "metadata": {
      "needs_background": "light"
     },
     "output_type": "display_data"
    }
   ],
   "source": [
    "plt.hist(test_pred[y_test == 0])"
   ]
  },
  {
   "cell_type": "code",
   "execution_count": 83,
   "metadata": {},
   "outputs": [
    {
     "data": {
      "text/plain": [
       "(array([21., 30., 17., 10.,  7., 11.,  3.,  3.,  1.,  1.]),\n",
       " array([0.06059309, 0.13917443, 0.21775577, 0.29633711, 0.37491844,\n",
       "        0.45349978, 0.53208112, 0.61066246, 0.6892438 , 0.76782513,\n",
       "        0.84640647]),\n",
       " <a list of 10 Patch objects>)"
      ]
     },
     "execution_count": 83,
     "metadata": {},
     "output_type": "execute_result"
    },
    {
     "data": {
      "image/png": "[encoded data removed]",
      "text/plain": [
       "<Figure size 432x288 with 1 Axes>"
      ]
     },
     "metadata": {
      "needs_background": "light"
     },
     "output_type": "display_data"
    },
    {
     "data": {
      "image/png": "[encoded data removed]",
      "text/plain": [
       "<Figure size 432x288 with 1 Axes>"
      ]
     },
     "metadata": {
      "needs_background": "light"
     },
     "output_type": "display_data"
    }
   ],
   "source": [
    "plt.hist(prob_test[y_test == 1,1])\n",
    "plt.figure()\n",
    "plt.hist(prob_test[y_test == 0,1],color = 'r')"
   ]
  },
  {
   "cell_type": "code",
   "execution_count": 84,
   "metadata": {},
   "outputs": [
    {
     "data": {
      "text/plain": [
       "[<matplotlib.lines.Line2D at 0x1a21d89f60>]"
      ]
     },
     "execution_count": 84,
     "metadata": {},
     "output_type": "execute_result"
    },
    {
     "data": {
      "image/png": "[encoded data removed]",
      "text/plain": [
       "<Figure size 432x288 with 1 Axes>"
      ]
     },
     "metadata": {
      "needs_background": "light"
     },
     "output_type": "display_data"
    }
   ],
   "source": [
    "from sklearn import metrics\n",
    "import numpy as np\n",
    "thresholds = np.linspace(0,0.9,100)\n",
    "percision_list = []\n",
    "recall_list = []\n",
    "for threshold in thresholds:\n",
    "    pred = prob_test[:,1]>threshold\n",
    "    percision_list.append(metrics.precision_score(y_test,pred))\n",
    "    recall_list.append(metrics.recall_score(y_test,pred))\n",
    "    \n",
    "plt.plot(thresholds,percision_list)\n",
    "plt.plot(thresholds,recall_list,c = 'r')"
   ]
  },
  {
   "cell_type": "code",
   "execution_count": 85,
   "metadata": {},
   "outputs": [
    {
     "data": {
      "text/plain": [
       "array([False, False, False, False, False, False, False, False, False,\n",
       "       False, False, False,  True,  True, False, False,  True, False,\n",
       "       False, False])"
      ]
     },
     "execution_count": 85,
     "metadata": {},
     "output_type": "execute_result"
    }
   ],
   "source": [
    "pred = prob_test[:,1]> 0.5\n",
    "pred[0:20]"
   ]
  },
  {
   "cell_type": "code",
   "execution_count": 88,
   "metadata": {},
   "outputs": [
    {
     "data": {
      "text/plain": [
       "[<matplotlib.lines.Line2D at 0x1a22147b38>]"
      ]
     },
     "execution_count": 88,
     "metadata": {},
     "output_type": "execute_result"
    },
    {
     "data": {
      "image/png": "[encoded data removed]",
      "text/plain": [
       "<Figure size 432x288 with 1 Axes>"
      ]
     },
     "metadata": {
      "needs_background": "light"
     },
     "output_type": "display_data"
    }
   ],
   "source": [
    "plt.plot(recall_list,percision_list)"
   ]
  },
  {
   "cell_type": "code",
   "execution_count": 90,
   "metadata": {},
   "outputs": [
    {
     "data": {
      "text/plain": [
       "[<matplotlib.lines.Line2D at 0x1a220b0240>]"
      ]
     },
     "execution_count": 90,
     "metadata": {},
     "output_type": "execute_result"
    },
    {
     "data": {
      "image/png": "[encoded data removed]",
      "text/plain": [
       "<Figure size 432x288 with 1 Axes>"
      ]
     },
     "metadata": {
      "needs_background": "light"
     },
     "output_type": "display_data"
    }
   ],
   "source": [
    "per,rec,_ = metrics.precision_recall_curve(y_test,prob_test[:,1])\n",
    "plt.plot(rec,per)"
   ]
  },
  {
   "cell_type": "code",
   "execution_count": 96,
   "metadata": {},
   "outputs": [
    {
     "data": {
      "text/plain": [
       "[<matplotlib.lines.Line2D at 0x1a224cc320>]"
      ]
     },
     "execution_count": 96,
     "metadata": {},
     "output_type": "execute_result"
    },
    {
     "data": {
      "image/png": "[encoded data removed]",
      "text/plain": [
       "<Figure size 432x288 with 1 Axes>"
      ]
     },
     "metadata": {
      "needs_background": "light"
     },
     "output_type": "display_data"
    }
   ],
   "source": [
    "###f1 score\n",
    "f1 = 2*per*rec/(per+rec)\n",
    "plt.plot(f1)"
   ]
  },
  {
   "cell_type": "code",
   "execution_count": 98,
   "metadata": {},
   "outputs": [
    {
     "data": {
      "text/plain": [
       "[<matplotlib.lines.Line2D at 0x1a224a2f28>]"
      ]
     },
     "execution_count": 98,
     "metadata": {},
     "output_type": "execute_result"
    },
    {
     "data": {
      "image/png": "[encoded data removed]",
      "text/plain": [
       "<Figure size 432x288 with 1 Axes>"
      ]
     },
     "metadata": {
      "needs_background": "light"
     },
     "output_type": "display_data"
    }
   ],
   "source": [
    "fpr,tpr,threshold = metrics.roc_curve(y_test,prob_test[:,1])\n",
    "plt.plot(fpr,tpr)\n",
    "plt.plot([0,1],[0,1],'k--')\n",
    "\n",
    "## maxmize the accuracy, the further the better"
   ]
  },
  {
   "cell_type": "code",
   "execution_count": 99,
   "metadata": {},
   "outputs": [
    {
     "data": {
      "text/plain": [
       "0.8373076923076923"
      ]
     },
     "execution_count": 99,
     "metadata": {},
     "output_type": "execute_result"
    }
   ],
   "source": [
    "metrics.auc(fpr,tpr)"
   ]
  },
  {
   "cell_type": "code",
   "execution_count": null,
   "metadata": {},
   "outputs": [],
   "source": []
  },
  {
   "cell_type": "code",
   "execution_count": null,
   "metadata": {},
   "outputs": [],
   "source": []
  }
 ],
 "metadata": {
  "kernelspec": {
   "display_name": "Python 3",
   "language": "python",
   "name": "python3"
  },
  "language_info": {
   "codemirror_mode": {
    "name": "ipython",
    "version": 3
   },
   "file_extension": ".py",
   "mimetype": "text/x-python",
   "name": "python",
   "nbconvert_exporter": "python",
   "pygments_lexer": "ipython3",
   "version": "3.6.5"
  }
 },
 "nbformat": 4,
 "nbformat_minor": 2
}
